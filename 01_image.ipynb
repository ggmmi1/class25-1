{
 "cells": [
  {
   "cell_type": "code",
   "execution_count": null,
   "metadata": {},
   "outputs": [],
   "source": [
    "#이미지 입출력"
   ]
  },
  {
   "cell_type": "code",
   "execution_count": 1,
   "metadata": {},
   "outputs": [],
   "source": [
    "import cv2"
   ]
  },
  {
   "cell_type": "code",
   "execution_count": 8,
   "metadata": {},
   "outputs": [
    {
     "name": "stdout",
     "output_type": "stream",
     "text": [
      "[[[181 212 215]\n",
      "  [183 214 217]\n",
      "  [190 217 221]\n",
      "  ...\n",
      "  [213 226 234]\n",
      "  [213 227 233]\n",
      "  [215 226 230]]\n",
      "\n",
      " [[181 212 215]\n",
      "  [183 214 217]\n",
      "  [190 217 221]\n",
      "  ...\n",
      "  [212 226 232]\n",
      "  [212 226 232]\n",
      "  [212 223 231]]\n",
      "\n",
      " [[181 212 215]\n",
      "  [183 214 217]\n",
      "  [189 216 220]\n",
      "  ...\n",
      "  [212 226 232]\n",
      "  [212 224 234]\n",
      "  [208 218 235]]\n",
      "\n",
      " ...\n",
      "\n",
      " [[122 154 189]\n",
      "  [119 154 188]\n",
      "  [119 151 186]\n",
      "  ...\n",
      "  [189 205 218]\n",
      "  [191 207 220]\n",
      "  [190 206 219]]\n",
      "\n",
      " [[129 159 194]\n",
      "  [125 157 192]\n",
      "  [125 155 190]\n",
      "  ...\n",
      "  [191 207 220]\n",
      "  [193 209 222]\n",
      "  [194 210 223]]\n",
      "\n",
      " [[133 163 198]\n",
      "  [130 160 195]\n",
      "  [127 157 192]\n",
      "  ...\n",
      "  [192 208 221]\n",
      "  [194 210 223]\n",
      "  [197 213 226]]]\n"
     ]
    }
   ],
   "source": [
    "img = cv2.imread(\"images/Unknown.jpeg\")\n",
    "print(img)\n"
   ]
  },
  {
   "cell_type": "code",
   "execution_count": null,
   "metadata": {},
   "outputs": [
    {
     "name": "stdout",
     "output_type": "stream",
     "text": [
      "-1\n"
     ]
    }
   ],
   "source": [
    "img = cv2.imread(\"images/Unknown.jpeg\")\n",
    "cv2.imshow(\"Image\", img)   #출력\n",
    "Key = cv2.waitKey(5000) #무한대기(0), 키 입력이 없으면 -1 반환, (5000)-> 5초\n",
    "print(Key)  # 아스키 코드가 들어오게 됨\n",
    "cv2.destroyAllWindows()"
   ]
  },
  {
   "cell_type": "code",
   "execution_count": null,
   "metadata": {},
   "outputs": [],
   "source": [
    "#1-2 이미지 불러오기 옵션\n",
    "#\"cv2. IMREAD_COLOR\" 이미지를 컬러로, 기본 옵션, 투명 배경 무시\n",
    "# \"cv2. IMREAD_GRAYSCALE\" 이미지를 흑백으로 \n",
    "# cv2.IMREAD_UNCHANGED "
   ]
  },
  {
   "cell_type": "code",
   "execution_count": 19,
   "metadata": {},
   "outputs": [],
   "source": [
    "img_default = cv2.imread(\"images/Unknown.jpeg\", cv2.IMREAD_COLOR)\n",
    "img_gray = cv2.imread(\"images/Unknown.jpeg\", cv2.IMREAD_GRAYSCALE)\n",
    "img_unchanged = cv2.imread(\"images/Unknown.jpeg\", cv2.IMREAD_UNCHANGED)\n",
    "\n",
    "cv2.imshow(\"Image default\", img_default)\n",
    "cv2.imshow(\"Image gray\", img_gray)\n",
    "cv2.imshow(\"Image unchanged\", img_unchanged)\n",
    "\n",
    "cv2.waitKey(0)\n",
    "cv2.destroyAllWindows()\n",
    "\n"
   ]
  },
  {
   "cell_type": "code",
   "execution_count": null,
   "metadata": {},
   "outputs": [],
   "source": [
    "#1-3 이미지 shape 가로, ㅅ세로, 채널 출력"
   ]
  },
  {
   "cell_type": "code",
   "execution_count": 22,
   "metadata": {},
   "outputs": [
    {
     "name": "stdout",
     "output_type": "stream",
     "text": [
      "3946 2818 3\n"
     ]
    }
   ],
   "source": [
    "img_default = cv2.imread(\"images/IMG_6026.PNG\", cv2.IMREAD_COLOR)\n",
    "img_gray = cv2.imread(\"images/IMG_6026.PNG\", cv2.IMREAD_GRAYSCALE)\n",
    "img_unchanged = cv2.imread(\"images/IMG_6026.PNG\", cv2.IMREAD_UNCHANGED)\n",
    "\n",
    "height, weight, channel = img_default.shape\n",
    "print(height, weight, channel)"
   ]
  },
  {
   "cell_type": "code",
   "execution_count": null,
   "metadata": {},
   "outputs": [
    {
     "name": "stdout",
     "output_type": "stream",
     "text": [
      "3946 2818 4\n"
     ]
    }
   ],
   "source": [
    "img_default = cv2.imread(\"images/IMG_6026.PNG\", cv2.IMREAD_COLOR)\n",
    "img_gray = cv2.imread(\"images/IMG_6026.PNG\", cv2.IMREAD_GRAYSCALE)\n",
    "img_unchanged = cv2.imread(\"images/IMG_6026.PNG\", cv2.IMREAD_UNCHANGED)\n",
    "\n",
    "height, weight, channel = img_unchanged.shape\n",
    "print(height, weight, channel)"
   ]
  },
  {
   "cell_type": "code",
   "execution_count": null,
   "metadata": {},
   "outputs": [],
   "source": [
    "#unchanged 알파값을 불러옴 비교해보면 default는 채널3, unchanged 채널4(RGB+알파)"
   ]
  },
  {
   "cell_type": "code",
   "execution_count": 26,
   "metadata": {},
   "outputs": [
    {
     "data": {
      "text/plain": [
       "(3946, 2818)"
      ]
     },
     "execution_count": 26,
     "metadata": {},
     "output_type": "execute_result"
    }
   ],
   "source": [
    "#흑백은 RGB 잡히지 않기 때문에 채널이 잡히지 않음\n",
    "\n",
    "img_default = cv2.imread(\"images/IMG_6026.PNG\", cv2.IMREAD_COLOR)\n",
    "img_gray = cv2.imread(\"images/IMG_6026.PNG\", cv2.IMREAD_GRAYSCALE)\n",
    "img_unchanged = cv2.imread(\"images/IMG_6026.PNG\", cv2.IMREAD_UNCHANGED)\n",
    "\n",
    "img_gray.shape\n"
   ]
  },
  {
   "cell_type": "code",
   "execution_count": 32,
   "metadata": {},
   "outputs": [],
   "source": [
    "img = cv2.imread(\"images/IMG_6026.PNG\")\n",
    "cv2.imshow(\"img\",img)\n",
    "key = cv2.waitKey(0)\n",
    "if key == ord(\"q\"):\n",
    "    cv2.destroyAllWindows()\n",
    "    "
   ]
  },
  {
   "cell_type": "code",
   "execution_count": 34,
   "metadata": {},
   "outputs": [
    {
     "data": {
      "text/plain": [
       "113"
      ]
     },
     "execution_count": 34,
     "metadata": {},
     "output_type": "execute_result"
    }
   ],
   "source": [
    "ord(\"q\")"
   ]
  },
  {
   "cell_type": "code",
   "execution_count": 35,
   "metadata": {},
   "outputs": [],
   "source": [
    "#불러온 이미지를 파일 생성"
   ]
  },
  {
   "cell_type": "code",
   "execution_count": 37,
   "metadata": {},
   "outputs": [
    {
     "data": {
      "text/plain": [
       "True"
      ]
     },
     "execution_count": 37,
     "metadata": {},
     "output_type": "execute_result"
    }
   ],
   "source": [
    "img = cv2.imread(\"images/IMG_6026.PNG\")\n",
    "cv2.imwrite(\"output/new_dog.PNG\", img)"
   ]
  },
  {
   "cell_type": "code",
   "execution_count": 48,
   "metadata": {},
   "outputs": [
    {
     "data": {
      "text/plain": [
       "True"
      ]
     },
     "execution_count": 48,
     "metadata": {},
     "output_type": "execute_result"
    }
   ],
   "source": [
    "#실습 컬러 이미지를 흑백으로 \n",
    "img_gray = cv2.imread(\"images/Unknown.jpeg\", cv2.IMREAD_GRAYSCALE)\n",
    "cv2.imwrite(\"output/new_cat.jpeg\", img)"
   ]
  }
 ],
 "metadata": {
  "kernelspec": {
   "display_name": "my_cv",
   "language": "python",
   "name": "python3"
  },
  "language_info": {
   "codemirror_mode": {
    "name": "ipython",
    "version": 3
   },
   "file_extension": ".py",
   "mimetype": "text/x-python",
   "name": "python",
   "nbconvert_exporter": "python",
   "pygments_lexer": "ipython3",
   "version": "3.13.0"
  }
 },
 "nbformat": 4,
 "nbformat_minor": 2
}

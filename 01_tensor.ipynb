{
  "nbformat": 4,
  "nbformat_minor": 0,
  "metadata": {
    "colab": {
      "provenance": [],
      "toc_visible": true,
      "gpuType": "T4",
      "authorship_tag": "ABX9TyMG6wRN3+zhQ4rQ5s1lbLZz",
      "include_colab_link": true
    },
    "kernelspec": {
      "name": "python3",
      "display_name": "Python 3"
    },
    "language_info": {
      "name": "python"
    },
    "accelerator": "GPU"
  },
  "cells": [
    {
      "cell_type": "markdown",
      "metadata": {
        "id": "view-in-github",
        "colab_type": "text"
      },
      "source": [
        "<a href=\"https://colab.research.google.com/github/ggmmi1/class25-1/blob/main/01_tensor.ipynb\" target=\"_parent\"><img src=\"https://colab.research.google.com/assets/colab-badge.svg\" alt=\"Open In Colab\"/></a>"
      ]
    },
    {
      "cell_type": "code",
      "execution_count": 4,
      "metadata": {
        "colab": {
          "base_uri": "https://localhost:8080/"
        },
        "id": "dglefZlq2764",
        "outputId": "558fdd87-c158-4b25-b840-58e393f8fc7f"
      },
      "outputs": [
        {
          "output_type": "stream",
          "name": "stdout",
          "text": [
            "Requirement already satisfied: torch in /usr/local/lib/python3.10/dist-packages (2.5.1+cu121)\n",
            "Requirement already satisfied: torchvision in /usr/local/lib/python3.10/dist-packages (0.20.1+cu121)\n",
            "Requirement already satisfied: torchaudio in /usr/local/lib/python3.10/dist-packages (2.5.1+cu121)\n",
            "Requirement already satisfied: filelock in /usr/local/lib/python3.10/dist-packages (from torch) (3.16.1)\n",
            "Requirement already satisfied: typing-extensions>=4.8.0 in /usr/local/lib/python3.10/dist-packages (from torch) (4.12.2)\n",
            "Requirement already satisfied: networkx in /usr/local/lib/python3.10/dist-packages (from torch) (3.4.2)\n",
            "Requirement already satisfied: jinja2 in /usr/local/lib/python3.10/dist-packages (from torch) (3.1.5)\n",
            "Requirement already satisfied: fsspec in /usr/local/lib/python3.10/dist-packages (from torch) (2024.10.0)\n",
            "Requirement already satisfied: sympy==1.13.1 in /usr/local/lib/python3.10/dist-packages (from torch) (1.13.1)\n",
            "Requirement already satisfied: mpmath<1.4,>=1.1.0 in /usr/local/lib/python3.10/dist-packages (from sympy==1.13.1->torch) (1.3.0)\n",
            "Requirement already satisfied: numpy in /usr/local/lib/python3.10/dist-packages (from torchvision) (1.26.4)\n",
            "Requirement already satisfied: pillow!=8.3.*,>=5.3.0 in /usr/local/lib/python3.10/dist-packages (from torchvision) (11.1.0)\n",
            "Requirement already satisfied: MarkupSafe>=2.0 in /usr/local/lib/python3.10/dist-packages (from jinja2->torch) (3.0.2)\n"
          ]
        }
      ],
      "source": [
        "!pip3 install torch torchvision torchaudio"
      ]
    },
    {
      "cell_type": "code",
      "source": [
        "import torch\n",
        "import numpy as np\n",
        "torch.__version__"
      ],
      "metadata": {
        "colab": {
          "base_uri": "https://localhost:8080/",
          "height": 35
        },
        "id": "T3GUDPJf8n9E",
        "outputId": "8de1d983-e493-4f08-9795-a440cb652aac"
      },
      "execution_count": 7,
      "outputs": [
        {
          "output_type": "execute_result",
          "data": {
            "text/plain": [
              "'2.5.1+cu121'"
            ],
            "application/vnd.google.colaboratory.intrinsic+json": {
              "type": "string"
            }
          },
          "metadata": {},
          "execution_count": 7
        }
      ]
    },
    {
      "cell_type": "markdown",
      "source": [
        "### 1-1. 초기화 되지 않은 Tensor\n",
        "-특정한 값이 채워지지 않은 상태로 생성되는것"
      ],
      "metadata": {
        "id": "MLOHfdkiDTa0"
      }
    },
    {
      "cell_type": "code",
      "source": [
        "tensor = torch.empty(4,2)\n",
        "print(tensor)"
      ],
      "metadata": {
        "colab": {
          "base_uri": "https://localhost:8080/"
        },
        "id": "ecmQN6jwAuNz",
        "outputId": "e4269beb-f7ee-4f30-bc5f-e258897d2bae"
      },
      "execution_count": 8,
      "outputs": [
        {
          "output_type": "stream",
          "name": "stdout",
          "text": [
            "tensor([[1.7268e-19, 4.5078e-41],\n",
            "        [1.7268e-19, 4.5078e-41],\n",
            "        [0.0000e+00, 0.0000e+00],\n",
            "        [0.0000e+00, 0.0000e+00]])\n"
          ]
        }
      ]
    },
    {
      "cell_type": "markdown",
      "source": [
        "### 1-2. 상수로 초기화 된 Tensor\n",
        "- 'torch.zeros()'\n",
        "- 'torch.ones()'"
      ],
      "metadata": {
        "id": "G7MgFESyD5bW"
      }
    },
    {
      "cell_type": "code",
      "source": [
        "a = torch.ones(3,4, dtype=torch.long) #dtype = 데이터 타입 지정\n",
        "b = torch.zeros(2,2)\n",
        "\n",
        "print(a)\n",
        "print(b)"
      ],
      "metadata": {
        "colab": {
          "base_uri": "https://localhost:8080/"
        },
        "id": "2c1QXJA6DshY",
        "outputId": "9d71a897-1fee-450f-8e0a-3429dbef4b12"
      },
      "execution_count": 17,
      "outputs": [
        {
          "output_type": "stream",
          "name": "stdout",
          "text": [
            "tensor([[1, 1, 1, 1],\n",
            "        [1, 1, 1, 1],\n",
            "        [1, 1, 1, 1]])\n",
            "tensor([[0., 0.],\n",
            "        [0., 0.]])\n"
          ]
        }
      ]
    },
    {
      "cell_type": "markdown",
      "source": [
        "### 1-3. 무작위하게 초기화된 Tensor\n",
        "='torch.rand: 0~1 사이의 값으로 무작위 초기화\n",
        "- 'torch.randn: 표준정규분포에서 무작위 초기화"
      ],
      "metadata": {
        "id": "uoztsJz3ElNY"
      }
    },
    {
      "cell_type": "code",
      "source": [
        "a = torch.rand(3,3)\n",
        "b = torch.randn(3,3)\n",
        "print(a,b)"
      ],
      "metadata": {
        "colab": {
          "base_uri": "https://localhost:8080/"
        },
        "id": "z3i86i0ZEH30",
        "outputId": "c52bfd49-e13e-49a9-8e90-0e295465df9a"
      },
      "execution_count": 19,
      "outputs": [
        {
          "output_type": "stream",
          "name": "stdout",
          "text": [
            "tensor([[0.1721, 0.3214, 0.4254],\n",
            "        [0.8941, 0.5485, 0.2627],\n",
            "        [0.6346, 0.0967, 0.9055]]) tensor([[-0.2778,  2.0816, -1.3949],\n",
            "        [-0.6792, -1.6449, -0.3560],\n",
            "        [-2.2427, -0.7588,  3.5368]])\n"
          ]
        }
      ]
    },
    {
      "cell_type": "markdown",
      "source": [
        "### 1-4. 직접 입력한 값으로 초기화"
      ],
      "metadata": {
        "id": "pM1XhdiiFI93"
      }
    },
    {
      "cell_type": "code",
      "source": [
        "a = torch.tensor([1, 2.3])\n",
        "a"
      ],
      "metadata": {
        "colab": {
          "base_uri": "https://localhost:8080/"
        },
        "id": "CEoHKyjcFIHN",
        "outputId": "a567284b-734f-4139-ffaa-4bc6a3389e9e"
      },
      "execution_count": 21,
      "outputs": [
        {
          "output_type": "execute_result",
          "data": {
            "text/plain": [
              "tensor([1.0000, 2.3000])"
            ]
          },
          "metadata": {},
          "execution_count": 21
        }
      ]
    },
    {
      "cell_type": "markdown",
      "source": [
        "\n",
        "### 1-5. Numpy 배열로부터 초기화"
      ],
      "metadata": {
        "id": "pY5bqK0RFcN5"
      }
    },
    {
      "cell_type": "code",
      "source": [
        "nd_arr = np.array([1,2,3])\n",
        "\n",
        "a = torch.from_numpy(nd_arr)\n",
        "\n",
        "#numpy array로 변환\n",
        "b = torch.tensor([1, 2.3])\n",
        "new_nd = b.numpy()\n",
        "type(new_nd)"
      ],
      "metadata": {
        "colab": {
          "base_uri": "https://localhost:8080/"
        },
        "id": "i_YcZsF3FR_P",
        "outputId": "4dfc612f-dea5-4d12-b4c6-910e8d44dcfe"
      },
      "execution_count": 25,
      "outputs": [
        {
          "output_type": "execute_result",
          "data": {
            "text/plain": [
              "numpy.ndarray"
            ]
          },
          "metadata": {},
          "execution_count": 25
        }
      ]
    },
    {
      "cell_type": "code",
      "source": [
        "\n",
        "nd_arr = np.array([1,2,3])\n",
        "\n",
        "a = torch.from_numpy(nd_arr)\n",
        "b = torch.tensor([1, 2, 3, 4, 5])\n",
        "new_nd = b.numpy()\n",
        "new_nd[2] = 100 # new_nd[2]가 100으로 수정\n",
        "print(new_nd)\n",
        "print(b)"
      ],
      "metadata": {
        "colab": {
          "base_uri": "https://localhost:8080/"
        },
        "id": "TGoemgt5HUCl",
        "outputId": "9a5e247f-f01d-4fae-828e-817bad55f301"
      },
      "execution_count": 27,
      "outputs": [
        {
          "output_type": "stream",
          "name": "stdout",
          "text": [
            "[  1   2 100   4   5]\n",
            "tensor([  1,   2, 100,   4,   5])\n"
          ]
        }
      ]
    },
    {
      "cell_type": "markdown",
      "source": [
        "### 1-6. 특정 텐서와 같은 사이즈, 무작위로 값을 채움"
      ],
      "metadata": {
        "id": "n8I4JdBDGcjL"
      }
    },
    {
      "cell_type": "code",
      "source": [
        "a = torch.ones(3,4, dtype=torch.long)\n",
        "b = torch.rand_like(a, dtype=torch.float)  #randn_like, 정규분포로 바뀜 zeros_like,0으로 바뀜\n",
        "b"
      ],
      "metadata": {
        "colab": {
          "base_uri": "https://localhost:8080/"
        },
        "id": "OL4UGEgoFt98",
        "outputId": "e91d7359-2973-4879-d464-ffec88afac8e"
      },
      "execution_count": 26,
      "outputs": [
        {
          "output_type": "execute_result",
          "data": {
            "text/plain": [
              "tensor([[0.3761, 0.6184, 0.6829, 0.9360],\n",
              "        [0.1529, 0.5430, 0.5535, 0.0284],\n",
              "        [0.0541, 0.7700, 0.8875, 0.8602]])"
            ]
          },
          "metadata": {},
          "execution_count": 26
        }
      ]
    },
    {
      "cell_type": "markdown",
      "source": [
        " ## PyTorch Quiz 1 : Tensor 초기화"
      ],
      "metadata": {
        "id": "B9tm8_x9H8g9"
      }
    },
    {
      "cell_type": "markdown",
      "source": [
        "### 1. 빈 Tensor 생성하기\n",
        "다음 조건에 맞는 Tensor를 생성하세요.\n",
        "- 3x4 크기의 Tensor\n",
        "- 값이 초기화되지 않은 상태"
      ],
      "metadata": {
        "id": "DhJQSNnOIjq_"
      }
    },
    {
      "cell_type": "code",
      "source": [
        "a = torch.empty(3,4)\n",
        "print(a)"
      ],
      "metadata": {
        "colab": {
          "base_uri": "https://localhost:8080/"
        },
        "id": "jp1QCDMLH96Q",
        "outputId": "08a67459-1b60-4bde-b6f2-c4a7eea39928"
      },
      "execution_count": 44,
      "outputs": [
        {
          "output_type": "stream",
          "name": "stdout",
          "text": [
            "tensor([[ 1.9745e+26,  3.1703e-41,  3.3824e-33,  3.9600e+16],\n",
            "        [ 1.1495e-24,  4.5078e-41,  7.5605e-03,  4.5077e-41],\n",
            "        [ 1.1308e-30, -5.2160e-17,  9.2785e+04,  4.5077e-41]])\n"
          ]
        }
      ]
    },
    {
      "cell_type": "markdown",
      "source": [
        "### 2. 0으로 채워진 Tensor 생성하기\n",
        "다음과 같은 Tensor를 생성하세요.\n",
        "- 2x5x3 크기의 Tensor\n",
        "- 데이터 타입은 float64"
      ],
      "metadata": {
        "id": "Lcl6BudgIl_s"
      }
    },
    {
      "cell_type": "code",
      "source": [
        "a = torch.zeros((2, 5, 3), dtype=torch.float64)\n",
        "\n",
        "print(a)\n",
        "\n"
      ],
      "metadata": {
        "colab": {
          "base_uri": "https://localhost:8080/"
        },
        "id": "s_xtZsVgIVfk",
        "outputId": "24a9e95b-a65b-41da-cd9a-733dd7d810bc"
      },
      "execution_count": 43,
      "outputs": [
        {
          "output_type": "stream",
          "name": "stdout",
          "text": [
            "tensor([[[0., 0., 0.],\n",
            "         [0., 0., 0.],\n",
            "         [0., 0., 0.],\n",
            "         [0., 0., 0.],\n",
            "         [0., 0., 0.]],\n",
            "\n",
            "        [[0., 0., 0.],\n",
            "         [0., 0., 0.],\n",
            "         [0., 0., 0.],\n",
            "         [0., 0., 0.],\n",
            "         [0., 0., 0.]]], dtype=torch.float64)\n"
          ]
        }
      ]
    },
    {
      "cell_type": "markdown",
      "source": [
        "### 3. 1로 채워진 Tensor 생성하기\n",
        "다음 조건에 맞는 Tensor를 생성하세요.\n",
        "- 4x4 크기의 Tensor\n",
        "- 데이터 타입은 int"
      ],
      "metadata": {
        "id": "pBxRItOTIohD"
      }
    },
    {
      "cell_type": "code",
      "source": [
        "a = torch.ones((4, 4), dtype=torch.int)  #int:int32, short:int16, long:int64\n",
        "\n",
        "print(a)\n",
        "\n"
      ],
      "metadata": {
        "colab": {
          "base_uri": "https://localhost:8080/"
        },
        "id": "DUJHX0WAIqlq",
        "outputId": "4ad9eefe-381c-440f-90ce-4b175c955703"
      },
      "execution_count": 42,
      "outputs": [
        {
          "output_type": "stream",
          "name": "stdout",
          "text": [
            "tensor([[1, 1, 1, 1],\n",
            "        [1, 1, 1, 1],\n",
            "        [1, 1, 1, 1],\n",
            "        [1, 1, 1, 1]], dtype=torch.int32)\n"
          ]
        }
      ]
    },
    {
      "cell_type": "markdown",
      "source": [
        "### 4. 랜덤 값으로 채워진 Tensor 생성하기\n",
        "다음 조건에 맞는 Tensor를 생성하세요.\n",
        "- 3x3 크기의 Tensor\n",
        "- 모든 값이 0과 1 사이의 랜덤 값"
      ],
      "metadata": {
        "id": "exixcZD4IrTB"
      }
    },
    {
      "cell_type": "code",
      "source": [
        "a = torch.rand(3,3)\n",
        "a"
      ],
      "metadata": {
        "colab": {
          "base_uri": "https://localhost:8080/"
        },
        "id": "KXwaCIl9It7z",
        "outputId": "dfa4d4bf-f3e7-4058-ea38-22c6bd494f0d"
      },
      "execution_count": 46,
      "outputs": [
        {
          "output_type": "execute_result",
          "data": {
            "text/plain": [
              "tensor([[0.3258, 0.1474, 0.2626],\n",
              "        [0.7544, 0.7519, 0.8796],\n",
              "        [0.1156, 0.0191, 0.5450]])"
            ]
          },
          "metadata": {},
          "execution_count": 46
        }
      ]
    },
    {
      "cell_type": "markdown",
      "source": [
        "### 5. 다차원 Tensor 생성하기\n",
        "다음과 같은 다차원 Tensor를 생성하세요.\n",
        "- 값이 다음과 같은 2x3의 2D 배열\n",
        "    ```\n",
        "    [[1, 2, 3],\n",
        "     [4, 5, 6]]\n",
        "    ```"
      ],
      "metadata": {
        "id": "FnX85VhOIuJ6"
      }
    },
    {
      "cell_type": "code",
      "source": [
        "a= torch.tensor([[1, 2, 3], [4, 5, 6]])\n",
        "a"
      ],
      "metadata": {
        "colab": {
          "base_uri": "https://localhost:8080/"
        },
        "id": "kyUikIMaIwQe",
        "outputId": "4c9b8bd3-0ac5-40ec-b840-4c7d608fbea9"
      },
      "execution_count": 47,
      "outputs": [
        {
          "output_type": "execute_result",
          "data": {
            "text/plain": [
              "tensor([[1, 2, 3],\n",
              "        [4, 5, 6]])"
            ]
          },
          "metadata": {},
          "execution_count": 47
        }
      ]
    },
    {
      "cell_type": "markdown",
      "source": [
        "### 6. Tensor의 값을 변경하기\n",
        "1. 표준정규분포의 값을 랜덤으로 갖는 2x2 Tensor를 생성하세요.\n",
        "2. 생성된 Tensor의 값을 모두 0으로 바꿔보세요."
      ],
      "metadata": {
        "id": "PCf4SLipIw6s"
      }
    },
    {
      "cell_type": "code",
      "source": [
        "a = torch.randn(2,2)\n",
        "print(a)\n",
        "result = torch.zeros_like(a)\n",
        "print(result)"
      ],
      "metadata": {
        "colab": {
          "base_uri": "https://localhost:8080/"
        },
        "id": "cBAeT78JIzwK",
        "outputId": "3fea6d69-dc6f-4fe0-ef4e-6f0668295aeb"
      },
      "execution_count": 51,
      "outputs": [
        {
          "output_type": "stream",
          "name": "stdout",
          "text": [
            "tensor([[ 0.5731, -0.8149],\n",
            "        [ 1.7952,  0.9084]])\n",
            "tensor([[0., 0.],\n",
            "        [0., 0.]])\n"
          ]
        }
      ]
    },
    {
      "cell_type": "markdown",
      "source": [
        "### 1-7. Tensor의 속성"
      ],
      "metadata": {
        "id": "vcmtxjGCQcX7"
      }
    },
    {
      "cell_type": "code",
      "source": [
        "divice = torch.device(\"cuda\" if torch.cuda.is_available()else \"cpu\")\n",
        "tensor = torch.rand(3,4, dtype = torch.float64)\n",
        "\n",
        "\n",
        "print(tensor.size()) #사이즈\n",
        "print(tensor.shape)  #사이즈\n",
        "print(tensor.dtype) #데이터 타입\n",
        "print(tensor.device) #디바이스"
      ],
      "metadata": {
        "colab": {
          "base_uri": "https://localhost:8080/"
        },
        "id": "wryvaH-EQp91",
        "outputId": "c24b4300-3e64-485b-f465-083412d8fdf3"
      },
      "execution_count": 55,
      "outputs": [
        {
          "output_type": "stream",
          "name": "stdout",
          "text": [
            "torch.Size([3, 4])\n",
            "torch.Size([3, 4])\n",
            "torch.float64\n",
            "cpu\n"
          ]
        }
      ]
    },
    {
      "cell_type": "markdown",
      "source": [
        "### 1-8. 특정 타입의 Tensor 생성\n"
      ],
      "metadata": {
        "id": "r6lsWBIKR2g1"
      }
    },
    {
      "cell_type": "code",
      "source": [
        "tensor = torch.rand(3,4, dtype = torch.float64)\n",
        "\n",
        "float_tensor = torch.FloatTensor([1,2,3])\n",
        "print(float_tensor.dtype)\n",
        "\n",
        "int_tensor = torch.IntTensor([1.1, 2.3, 3.4])\n",
        "print(int_tensor)\n",
        "print(int_tensor.dtype)"
      ],
      "metadata": {
        "colab": {
          "base_uri": "https://localhost:8080/"
        },
        "id": "nlLp-3C3R7Lu",
        "outputId": "30df1e63-5968-432d-ce04-c4dd6338d386"
      },
      "execution_count": 57,
      "outputs": [
        {
          "output_type": "stream",
          "name": "stdout",
          "text": [
            "torch.float32\n",
            "tensor([1, 2, 3], dtype=torch.int32)\n",
            "torch.int32\n"
          ]
        }
      ]
    },
    {
      "cell_type": "code",
      "source": [],
      "metadata": {
        "id": "4EQnmoWVSsmg"
      },
      "execution_count": null,
      "outputs": []
    },
    {
      "cell_type": "markdown",
      "source": [
        "###1-9. 데이터 타입 캐스팅"
      ],
      "metadata": {
        "id": "rELJ0XPdStcN"
      }
    },
    {
      "cell_type": "code",
      "source": [
        "float_tensor = torch.FloatTensor([1, 2, 3])\n",
        "print(float_tensor.int())\n",
        "\n",
        "int_tensor = torch.IntTensor([1, 2, 3])\n",
        "print(float_tensor.float())"
      ],
      "metadata": {
        "colab": {
          "base_uri": "https://localhost:8080/"
        },
        "id": "AI8TxqPtSwyr",
        "outputId": "1511db21-fe74-446e-f2e1-b701fe04a3b1"
      },
      "execution_count": 58,
      "outputs": [
        {
          "output_type": "stream",
          "name": "stdout",
          "text": [
            "tensor([1, 2, 3], dtype=torch.int32)\n",
            "tensor([1., 2., 3.])\n"
          ]
        }
      ]
    },
    {
      "cell_type": "markdown",
      "source": [
        "### 1-10. CUDA Tensor"
      ],
      "metadata": {
        "id": "xqLJvXLSTcvr"
      }
    },
    {
      "cell_type": "code",
      "source": [
        "tensor = torch.rand(3,4, dtype = torch.float64)\n",
        "device = torch.device(\"cuda\" if torch.cuda.is_available()else \"cpu\")\n",
        "tensor = tensor.to(device)\n",
        "tensor.device\n",
        "\n",
        "\n"
      ],
      "metadata": {
        "colab": {
          "base_uri": "https://localhost:8080/"
        },
        "id": "W0v2VY5lToFV",
        "outputId": "0537f5f2-4b4b-4039-cbfb-99be9e65d76b"
      },
      "execution_count": 65,
      "outputs": [
        {
          "output_type": "execute_result",
          "data": {
            "text/plain": [
              "device(type='cuda', index=0)"
            ]
          },
          "metadata": {},
          "execution_count": 65
        }
      ]
    },
    {
      "cell_type": "markdown",
      "source": [
        "### 1-11. 다차원 Tensor 표현"
      ],
      "metadata": {
        "id": "dB8eXaa4U_QG"
      }
    },
    {
      "cell_type": "markdown",
      "source": [
        "#### 1-11-0. 0D Tensor(Scalar)\n",
        "-하나의 값을 담고 있는 텐서"
      ],
      "metadata": {
        "id": "T04Bn62EVHEb"
      }
    },
    {
      "cell_type": "code",
      "source": [
        "t0 = torch.tensor(100)\n",
        "print(t0.ndim)\n",
        "print(t0.shape)\n",
        "print(t0)"
      ],
      "metadata": {
        "colab": {
          "base_uri": "https://localhost:8080/"
        },
        "id": "pU263D2kVD8u",
        "outputId": "492e8a4e-95f1-4fdb-85e6-715313c599fe"
      },
      "execution_count": 66,
      "outputs": [
        {
          "output_type": "stream",
          "name": "stdout",
          "text": [
            "0\n",
            "torch.Size([])\n",
            "tensor(100)\n"
          ]
        }
      ]
    },
    {
      "cell_type": "markdown",
      "source": [
        "#### 1-11-1. 1D Tensor(Vector)\n",
        "-값들을 저장하고 있는 리스트와 유사한 텐서"
      ],
      "metadata": {
        "id": "hIs3P61pVlG3"
      }
    },
    {
      "cell_type": "code",
      "source": [
        "t1 = torch.tensor([1,2,3])\n",
        "print(t1.ndim)\n",
        "print(t1.shape)\n",
        "print(t1)"
      ],
      "metadata": {
        "colab": {
          "base_uri": "https://localhost:8080/"
        },
        "id": "0SgQfvzGVqLQ",
        "outputId": "fb8e9224-345f-4b96-f8f9-41dbd7f8432f"
      },
      "execution_count": 67,
      "outputs": [
        {
          "output_type": "stream",
          "name": "stdout",
          "text": [
            "1\n",
            "torch.Size([3])\n",
            "tensor([1, 2, 3])\n"
          ]
        }
      ]
    },
    {
      "cell_type": "markdown",
      "source": [
        "#### 1-11-2. 2D Tensor(Matrix)\n",
        "-행렬과 같은 모양으로 두개의 축이 존재"
      ],
      "metadata": {
        "id": "l_hZALPMV_nb"
      }
    },
    {
      "cell_type": "code",
      "source": [
        "t2 = torch.tensor([[1,2,3], [4,5,6]])\n",
        "print(t2.ndim)\n",
        "print(t2.shape)\n",
        "print(t2)"
      ],
      "metadata": {
        "colab": {
          "base_uri": "https://localhost:8080/"
        },
        "id": "poXxD4cqWKfJ",
        "outputId": "8bfd63cc-916c-45a2-8561-bb1f28d364f1"
      },
      "execution_count": 69,
      "outputs": [
        {
          "output_type": "stream",
          "name": "stdout",
          "text": [
            "2\n",
            "torch.Size([2, 3])\n",
            "tensor([[1, 2, 3],\n",
            "        [4, 5, 6]])\n"
          ]
        }
      ]
    },
    {
      "cell_type": "markdown",
      "source": [
        "#### 1-11-3. 3D Tensor(Cube)\n",
        "-큐브와 같은 형태로 세개의 축이 존재"
      ],
      "metadata": {
        "id": "aYkWQVQiWbb0"
      }
    },
    {
      "cell_type": "code",
      "source": [
        "t3 = torch.tensor([[[1,2,3], [4,5,6], [7,8,9]],\n",
        "                  [[1,2,3], [4,5,6], [7,8,9]],\n",
        "                  [[1,2,3], [4,5,6], [7,8,9]]\n",
        "                  ])\n",
        "print(t3.ndim)\n",
        "print(t3.shape)\n",
        "print(t3)"
      ],
      "metadata": {
        "colab": {
          "base_uri": "https://localhost:8080/"
        },
        "id": "P9SS-Z7XWi6t",
        "outputId": "887aa260-ee3a-415d-aa5f-ab5dd2250b2a"
      },
      "execution_count": 71,
      "outputs": [
        {
          "output_type": "stream",
          "name": "stdout",
          "text": [
            "3\n",
            "torch.Size([3, 3, 3])\n",
            "tensor([[[1, 2, 3],\n",
            "         [4, 5, 6],\n",
            "         [7, 8, 9]],\n",
            "\n",
            "        [[1, 2, 3],\n",
            "         [4, 5, 6],\n",
            "         [7, 8, 9]],\n",
            "\n",
            "        [[1, 2, 3],\n",
            "         [4, 5, 6],\n",
            "         [7, 8, 9]]])\n"
          ]
        }
      ]
    },
    {
      "cell_type": "markdown",
      "source": [
        "#### 1-11-4. 4D Tensor\n",
        "-4개의 축"
      ],
      "metadata": {
        "id": "4K5acfZxXXW2"
      }
    },
    {
      "cell_type": "code",
      "source": [
        "t4 = torch.rand(3,2,4,5)\n",
        "t4"
      ],
      "metadata": {
        "colab": {
          "base_uri": "https://localhost:8080/"
        },
        "id": "cfaxzn_4XW8U",
        "outputId": "896b1047-f813-4ce6-c2d1-907eca81c142"
      },
      "execution_count": 73,
      "outputs": [
        {
          "output_type": "execute_result",
          "data": {
            "text/plain": [
              "tensor([[[[0.2535, 0.7310, 0.1717, 0.0036, 0.1429],\n",
              "          [0.3557, 0.2756, 0.7998, 0.2807, 0.3255],\n",
              "          [0.3935, 0.0577, 0.3324, 0.3061, 0.3763],\n",
              "          [0.6478, 0.3439, 0.5702, 0.4083, 0.7174]],\n",
              "\n",
              "         [[0.6656, 0.8504, 0.3073, 0.8378, 0.4381],\n",
              "          [0.0119, 0.9920, 0.9380, 0.5964, 0.9224],\n",
              "          [0.0138, 0.8655, 0.2361, 0.6287, 0.7315],\n",
              "          [0.6143, 0.0126, 0.9810, 0.7511, 0.1092]]],\n",
              "\n",
              "\n",
              "        [[[0.2766, 0.2365, 0.6339, 0.4964, 0.9438],\n",
              "          [0.0355, 0.7726, 0.5427, 0.9471, 0.7830],\n",
              "          [0.6583, 0.4894, 0.5508, 0.3117, 0.4611],\n",
              "          [0.0197, 0.0519, 0.5392, 0.0732, 0.0631]],\n",
              "\n",
              "         [[0.8341, 0.5589, 0.5308, 0.0295, 0.9177],\n",
              "          [0.2104, 0.1169, 0.7518, 0.0566, 0.1542],\n",
              "          [0.1346, 0.9097, 0.0458, 0.5856, 0.5497],\n",
              "          [0.1666, 0.7803, 0.1802, 0.6875, 0.8917]]],\n",
              "\n",
              "\n",
              "        [[[0.6815, 0.9345, 0.1984, 0.9259, 0.3636],\n",
              "          [0.9953, 0.4759, 0.3284, 0.7846, 0.9030],\n",
              "          [0.2541, 0.2263, 0.6578, 0.8381, 0.6753],\n",
              "          [0.3020, 0.0616, 0.5394, 0.4831, 0.6913]],\n",
              "\n",
              "         [[0.9303, 0.4634, 0.2591, 0.1168, 0.7947],\n",
              "          [0.3724, 0.6354, 0.8245, 0.8524, 0.6675],\n",
              "          [0.1854, 0.1946, 0.1360, 0.5431, 0.9561],\n",
              "          [0.9530, 0.4412, 0.1836, 0.2408, 0.0409]]]])"
            ]
          },
          "metadata": {},
          "execution_count": 73
        }
      ]
    }
  ]
}
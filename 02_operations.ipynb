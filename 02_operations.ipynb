{
  "nbformat": 4,
  "nbformat_minor": 0,
  "metadata": {
    "colab": {
      "provenance": [],
      "authorship_tag": "ABX9TyPgRdMDcRKnyfCd63VHmZDL",
      "include_colab_link": true
    },
    "kernelspec": {
      "name": "python3",
      "display_name": "Python 3"
    },
    "language_info": {
      "name": "python"
    }
  },
  "cells": [
    {
      "cell_type": "markdown",
      "metadata": {
        "id": "view-in-github",
        "colab_type": "text"
      },
      "source": [
        "<a href=\"https://colab.research.google.com/github/ggmmi1/class25-1/blob/main/02_operations.ipynb\" target=\"_parent\"><img src=\"https://colab.research.google.com/assets/colab-badge.svg\" alt=\"Open In Colab\"/></a>"
      ]
    },
    {
      "cell_type": "markdown",
      "source": [
        "## 02. Tensor의 연산\n"
      ],
      "metadata": {
        "id": "FqSr7prwY_Gc"
      }
    },
    {
      "cell_type": "code",
      "execution_count": null,
      "metadata": {
        "id": "byOYO9W_Y-M3"
      },
      "outputs": [],
      "source": [
        "import torch"
      ]
    },
    {
      "cell_type": "markdown",
      "source": [
        "### 2-1. 산술 연산"
      ],
      "metadata": {
        "id": "DIFjVJehZGCF"
      }
    },
    {
      "cell_type": "code",
      "source": [
        "tensor = torch.rand(2,2)\n",
        "print(tensor)\n",
        "tensor = tensor * 2\n",
        "print(tensor)\n",
        "tensor = tensor + 1"
      ],
      "metadata": {
        "colab": {
          "base_uri": "https://localhost:8080/"
        },
        "id": "a0kVGgOZZFTD",
        "outputId": "0d98bc77-b712-48ea-a7cd-19f0d8c337ac"
      },
      "execution_count": null,
      "outputs": [
        {
          "output_type": "stream",
          "name": "stdout",
          "text": [
            "tensor([[0.6749, 0.1682],\n",
            "        [0.5041, 0.5569]])\n",
            "tensor([[1.3498, 0.3364],\n",
            "        [1.0082, 1.1138]])\n"
          ]
        }
      ]
    },
    {
      "cell_type": "code",
      "source": [
        "#1 더하기\n",
        "x = torch.rand(2,2)\n",
        "y = torch.rand(2,2)\n",
        "print(x,y)\n",
        "print(x+y)"
      ],
      "metadata": {
        "colab": {
          "base_uri": "https://localhost:8080/"
        },
        "id": "_dbyIyxnZdv0",
        "outputId": "241611fc-3e23-4180-c8d5-585ef84bfaae"
      },
      "execution_count": null,
      "outputs": [
        {
          "output_type": "stream",
          "name": "stdout",
          "text": [
            "tensor([[0.3335, 0.6209],\n",
            "        [0.3201, 0.1787]]) tensor([[0.3768, 0.9303],\n",
            "        [0.4769, 0.5047]])\n",
            "tensor([[0.7104, 1.5513],\n",
            "        [0.7970, 0.6835]])\n"
          ]
        }
      ]
    },
    {
      "cell_type": "code",
      "source": [
        "#2\n",
        "x = torch.rand(2,2)\n",
        "y = torch.rand(2,2)\n",
        "add = torch.add(x,y)\n",
        "print(x,y)\n",
        "print(x+y)\n",
        "print(add)"
      ],
      "metadata": {
        "colab": {
          "base_uri": "https://localhost:8080/"
        },
        "id": "fixO1HYyZqnW",
        "outputId": "20a7170a-ce99-4153-b458-97c3f9e14691"
      },
      "execution_count": null,
      "outputs": [
        {
          "output_type": "stream",
          "name": "stdout",
          "text": [
            "tensor([[0.1531, 0.8223],\n",
            "        [0.0150, 0.4885]]) tensor([[0.4718, 0.2869],\n",
            "        [0.4905, 0.2303]])\n",
            "tensor([[0.6249, 1.1092],\n",
            "        [0.5055, 0.7188]])\n",
            "tensor([[0.6249, 1.1092],\n",
            "        [0.5055, 0.7188]])\n"
          ]
        }
      ]
    },
    {
      "cell_type": "code",
      "source": [
        "# in - place 바꿔치기 연산\n",
        "add = torch.add(x,y)\n",
        "print(add)\n",
        "y.add_(x)  #더하기 한 결과를 y에 덮어 씌움\n",
        "print(y)"
      ],
      "metadata": {
        "colab": {
          "base_uri": "https://localhost:8080/"
        },
        "id": "CZIgVsaVZ-DU",
        "outputId": "f19abb8b-cda5-4ad6-d91c-acf4a1d7b8a7"
      },
      "execution_count": null,
      "outputs": [
        {
          "output_type": "stream",
          "name": "stdout",
          "text": [
            "tensor([[0.7780, 1.9315],\n",
            "        [0.5206, 1.2073]])\n",
            "tensor([[0.7780, 1.9315],\n",
            "        [0.5206, 1.2073]])\n"
          ]
        }
      ]
    },
    {
      "cell_type": "code",
      "source": [
        "#빼기\n",
        "x = torch.rand(2,2)\n",
        "y = torch.rand(2,2)\n",
        "sub = torch.sub(x,y)\n",
        "print(x-y)\n",
        "print(sub)\n"
      ],
      "metadata": {
        "colab": {
          "base_uri": "https://localhost:8080/"
        },
        "id": "Q8g8FF9gaVCj",
        "outputId": "f5342cdf-0127-41fc-f40c-1c1a47df89db"
      },
      "execution_count": null,
      "outputs": [
        {
          "output_type": "stream",
          "name": "stdout",
          "text": [
            "tensor([[ 0.2393, -0.3257],\n",
            "        [-0.2008,  0.0585]])\n",
            "tensor([[ 0.2393, -0.3257],\n",
            "        [-0.2008,  0.0585]])\n"
          ]
        }
      ]
    },
    {
      "cell_type": "code",
      "source": [
        "#곱하기\n",
        "x = torch.rand(2,2)\n",
        "y = torch.rand(2,2)\n",
        "mul = torch.mul(x,y)\n",
        "print(x*y)\n",
        "print(mul)\n"
      ],
      "metadata": {
        "colab": {
          "base_uri": "https://localhost:8080/"
        },
        "id": "ADm3tHoGal4-",
        "outputId": "6668ae94-6dc1-4f13-b134-d83946203cbf"
      },
      "execution_count": null,
      "outputs": [
        {
          "output_type": "stream",
          "name": "stdout",
          "text": [
            "tensor([[0.0173, 0.2029],\n",
            "        [0.1268, 0.2068]])\n",
            "tensor([[0.0173, 0.2029],\n",
            "        [0.1268, 0.2068]])\n"
          ]
        }
      ]
    },
    {
      "cell_type": "code",
      "source": [
        "#나누기\n",
        "x = torch.rand(2,2)\n",
        "y = torch.rand(2,2)\n",
        "div = torch.div(x,y)\n",
        "print(x/y)\n",
        "print(div)\n"
      ],
      "metadata": {
        "colab": {
          "base_uri": "https://localhost:8080/"
        },
        "id": "zZznAaOOareT",
        "outputId": "876a9af3-00c6-43c2-bd8c-9abfd990371c"
      },
      "execution_count": null,
      "outputs": [
        {
          "output_type": "stream",
          "name": "stdout",
          "text": [
            "tensor([[0.0163, 0.4965],\n",
            "        [0.9707, 0.5871]])\n",
            "tensor([[0.0163, 0.4965],\n",
            "        [0.9707, 0.5871]])\n"
          ]
        }
      ]
    },
    {
      "cell_type": "markdown",
      "source": [
        "### 2-2 각종연산"
      ],
      "metadata": {
        "id": "CozybPnjj_pu"
      }
    },
    {
      "cell_type": "code",
      "source": [
        "a = torch.tensor(-10)\n",
        "print(\"절대값\", torch.abs(a))\n",
        "\n",
        "b = torch.tensor(3.3)\n",
        "print(\"올림\", torch.ceil(b))\n",
        "print(\"반올림\", torch.ceil(b))\n",
        "print(\"내림\", torch.ceil(b))\n",
        "\n",
        "\n",
        "c = torch.rand(2,2)\n",
        "print(\"클램프\", torch.clamp(c, -0.5, 0.5))\n",
        "\n",
        "#c다른 방법\n",
        "c_1 = torch.tensor([[0.8, 0.3], [0.7, 0.5]])\n",
        "print(\"클램프\", torch.clamp(c_1, -0.5, 0.5))"
      ],
      "metadata": {
        "colab": {
          "base_uri": "https://localhost:8080/"
        },
        "id": "7qM0cZ24kB32",
        "outputId": "323d9426-fe89-4571-99d8-3fa6b1b7c777"
      },
      "execution_count": null,
      "outputs": [
        {
          "output_type": "stream",
          "name": "stdout",
          "text": [
            "절대값 tensor(10)\n",
            "올림 tensor(4.)\n",
            "반올림 tensor(4.)\n",
            "내림 tensor(4.)\n",
            "클램프 tensor([[0.0867, 0.2381],\n",
            "        [0.4623, 0.1989]])\n",
            "클램프 tensor([[0.5000, 0.3000],\n",
            "        [0.5000, 0.5000]])\n"
          ]
        }
      ]
    },
    {
      "cell_type": "code",
      "source": [
        "x = torch.randn(2,2)\n",
        "y = torch.tensor([[1,2], [3,4]])\n",
        "print(\"최소값\", torch.min(x))\n",
        "print(\"최대값\", torch.max(x))\n",
        "print(\"평균\", torch.mean(x))\n",
        "print(\"표준편차\", torch.std(x))\n",
        "\n",
        "print(\"모든 원소의 합\", torch.sum(y))\n",
        "print(\"모든 원소의 합\", torch.sum(y, dim=1))\n",
        "print(\"모든 원소의 곱\", torch.prod(y))\n",
        "print(\"중복된 값 제거\", torch.unique(torch.tensor([1,1,2,2,2,3,3,3,3,4,4,4,4])))"
      ],
      "metadata": {
        "colab": {
          "base_uri": "https://localhost:8080/"
        },
        "id": "uWuzKNUHkRaZ",
        "outputId": "aa355a81-82ea-4528-ef95-a017cea92e51"
      },
      "execution_count": null,
      "outputs": [
        {
          "output_type": "stream",
          "name": "stdout",
          "text": [
            "최소값 tensor(0.0451)\n",
            "최대값 tensor(1.0814)\n",
            "평균 tensor(0.4460)\n",
            "표준편차 tensor(0.4946)\n",
            "모든 원소의 합 tensor(10)\n",
            "모든 원소의 합 tensor([3, 7])\n",
            "모든 원소의 곱 tensor(24)\n",
            "중복된 값 제거 tensor([1, 2, 3, 4])\n"
          ]
        }
      ]
    },
    {
      "cell_type": "markdown",
      "source": [
        "### 2-3. 내적(dot product)"
      ],
      "metadata": {
        "id": "941d1vlsnJ_e"
      }
    },
    {
      "cell_type": "code",
      "source": [
        "x = torch.tensor([[1,2],[3,4]])\n",
        "y = torch.tensor([[5,6],[7,8]])\n",
        "\n",
        "result = torch.matmul(x,y)\n",
        "print(result)"
      ],
      "metadata": {
        "colab": {
          "base_uri": "https://localhost:8080/"
        },
        "id": "bvVJkiBynOeS",
        "outputId": "14eaf32d-b206-4e98-ce37-8b4a7a36ad5a"
      },
      "execution_count": null,
      "outputs": [
        {
          "output_type": "stream",
          "name": "stdout",
          "text": [
            "tensor([[19, 22],\n",
            "        [43, 50]])\n"
          ]
        }
      ]
    },
    {
      "cell_type": "markdown",
      "source": [
        "## PyTorch Quiz 2 : 연산"
      ],
      "metadata": {
        "id": "CpL6PsPRn_8V"
      }
    },
    {
      "cell_type": "markdown",
      "source": [
        "### 1. 덧셈과 뺄셈 연습\n",
        "1. [2, 4, 6]으로 초기화된 1D Tensor를 생성하세요.\n",
        "2. 각 요소에 5를 더한 Tensor를 출력하세요.\n",
        "3. 각 요소에서 3을 뺀 Tensor를 출력하세요."
      ],
      "metadata": {
        "id": "d794-A3UoCPf"
      }
    },
    {
      "cell_type": "code",
      "source": [
        "a = torch.tensor([2,4,6])\n",
        "print(a)\n",
        "print(a+5)\n",
        "print(a-3)"
      ],
      "metadata": {
        "colab": {
          "base_uri": "https://localhost:8080/"
        },
        "id": "9cplS322noZr",
        "outputId": "ab38cab8-6be2-4721-e66b-0aa987c8dc53"
      },
      "execution_count": null,
      "outputs": [
        {
          "output_type": "stream",
          "name": "stdout",
          "text": [
            "tensor([2, 4, 6])\n",
            "tensor([ 7,  9, 11])\n",
            "tensor([-1,  1,  3])\n"
          ]
        }
      ]
    },
    {
      "cell_type": "markdown",
      "source": [
        "### 2. Tensor 간의 연산\n",
        "1. 3x3 크기의 Tensor 2개를 생성하세요.\n",
        "2. 두 Tensor를 각각 더하고(+), 빼고(-), 곱하고(*), 나누세요(/)."
      ],
      "metadata": {
        "id": "RYMwZhzeoEoO"
      }
    },
    {
      "cell_type": "code",
      "source": [
        "a =torch.rand(3,3)\n",
        "b = torch.rand(3,3)\n",
        "print(a+b)\n",
        "print(a-b)\n",
        "print(a*b)\n",
        "print(a/b)"
      ],
      "metadata": {
        "colab": {
          "base_uri": "https://localhost:8080/"
        },
        "id": "hODm5CGgoGRd",
        "outputId": "3ce63c65-9400-4961-bf49-a72181428f3c"
      },
      "execution_count": null,
      "outputs": [
        {
          "output_type": "stream",
          "name": "stdout",
          "text": [
            "tensor([[1.1692, 0.2045, 1.3219],\n",
            "        [1.2159, 1.3505, 1.2624],\n",
            "        [1.1898, 1.3787, 0.5348]])\n",
            "tensor([[ 0.3852, -0.0713, -0.2280],\n",
            "        [ 0.3832, -0.2745,  0.2080],\n",
            "        [ 0.3001, -0.3786,  0.2025]])\n",
            "tensor([[0.3047, 0.0092, 0.4239],\n",
            "        [0.3329, 0.4371, 0.3876],\n",
            "        [0.3314, 0.4394, 0.0613]])\n",
            "tensor([[1.9825, 0.4829, 0.7058],\n",
            "        [1.9205, 0.6622, 1.3946],\n",
            "        [1.6745, 0.5691, 2.2184]])\n"
          ]
        }
      ]
    },
    {
      "cell_type": "markdown",
      "source": [
        "### 3. 행렬의 내적 연산\n",
        "1. 2×3 크기의 Tensor A를 다음 값으로 생성하세요:\n",
        "  - `[[1,2,3], [4,5,6]]`\n",
        "2. 3×2 크기의 Tensor B를 다음 값으로 생성하세요:\n",
        "  - `[[7,8],[9,10],[11,12]]`\n",
        "3. 두 Tensor의 행렬 내적(행렬 곱) A×B를 계산하여 출력하세요."
      ],
      "metadata": {
        "id": "xZjDau3ioG99"
      }
    },
    {
      "cell_type": "code",
      "source": [
        "A = torch.tensor([[1, 2, 3], [4, 5, 6]])\n",
        "print(A)\n",
        "B = torch.tensor([[7, 8], [9, 10], [11, 12]])\n",
        "print(B)\n",
        "\n",
        "print(torch.matmul(A, B))\n"
      ],
      "metadata": {
        "colab": {
          "base_uri": "https://localhost:8080/"
        },
        "id": "uDilHIukoIsA",
        "outputId": "be8c73d7-dab3-4472-b6ad-b4640de0332b"
      },
      "execution_count": null,
      "outputs": [
        {
          "output_type": "stream",
          "name": "stdout",
          "text": [
            "tensor([[1, 2, 3],\n",
            "        [4, 5, 6]])\n",
            "tensor([[ 7,  8],\n",
            "        [ 9, 10],\n",
            "        [11, 12]])\n",
            "tensor([[ 58,  64],\n",
            "        [139, 154]])\n"
          ]
        }
      ]
    },
    {
      "cell_type": "markdown",
      "source": [
        "### 4. 행렬 연산과 값 제한\n",
        "1. 이전 문제에서 계산된 행렬 R(결과 행렬 A×B)를 사용하세요\n",
        "2. 행렬 R의 각 요소에 10을 더하세요.\n",
        "3. R의 각 요소를 100보다 큰 값은 100으로, 나머지는 그대로 유지하도록 제한하세요."
      ],
      "metadata": {
        "id": "FipGNDeQoJPh"
      }
    },
    {
      "cell_type": "code",
      "source": [
        "#방법1\n",
        "A = torch.tensor([[1, 2, 3], [4, 5, 6]])\n",
        "B = torch.tensor([[7, 8], [9, 10], [11, 12]])\n",
        "R = torch.matmul(A, B)\n",
        "\n",
        "print(R + 10)\n",
        "print(torch.clamp(R + 10, max=100))"
      ],
      "metadata": {
        "colab": {
          "base_uri": "https://localhost:8080/"
        },
        "id": "-4zLqyM0oLVo",
        "outputId": "97d3cf5d-9e18-4962-b806-ed90ae9a0309"
      },
      "execution_count": null,
      "outputs": [
        {
          "output_type": "stream",
          "name": "stdout",
          "text": [
            "tensor([[ 68,  74],\n",
            "        [149, 164]])\n",
            "tensor([[ 68,  74],\n",
            "        [100, 100]])\n"
          ]
        }
      ]
    },
    {
      "cell_type": "code",
      "source": [
        "#방법2\n",
        "result_add = result +10\n",
        "print(result_add)\n",
        "\n",
        "answer = torch.clamp(result, max=100)\n",
        "print(answer)"
      ],
      "metadata": {
        "colab": {
          "base_uri": "https://localhost:8080/"
        },
        "id": "dmUDRf-rwVy0",
        "outputId": "8c4b3d6f-64bc-481c-9b88-f882a0a55b93"
      },
      "execution_count": null,
      "outputs": [
        {
          "output_type": "stream",
          "name": "stdout",
          "text": [
            "tensor([[29, 32],\n",
            "        [53, 60]])\n",
            "tensor([[19, 22],\n",
            "        [43, 50]])\n"
          ]
        }
      ]
    },
    {
      "cell_type": "markdown",
      "source": [
        "### 5. 행렬의 열별 합계 계산\n",
        "1. 5×5 크기의 Tensor M을 다음 값으로 생성하세요\n",
        "    ```\n",
        "    [[1, 2, 3, 4, 5],\n",
        "     [6, 7, 8, 9, 10],\n",
        "     [11, 12, 13, 14, 15],\n",
        "     [16, 17, 18, 19, 20],\n",
        "     [21, 22, 23, 24, 25]]\n",
        "    ```\n",
        "\n",
        "2. 행렬 M의 각 열의 합계를 계산하세요."
      ],
      "metadata": {
        "id": "d_1gnzvNoL0r"
      }
    },
    {
      "cell_type": "code",
      "source": [
        "#5-1. 5×5 크기의 Tensor M을 다음 값으로 생성하세요\n",
        "M = torch.tensor([\n",
        "                [1, 2, 3, 4, 5],\n",
        "                [6, 7, 8, 9, 10],\n",
        "                [11, 12, 13, 14, 15],\n",
        "                [16, 17, 18, 19, 20],\n",
        "                [21, 22, 23, 24, 25]\n",
        "])\n",
        "\n",
        "#5-2. 행렬 M의 각 열의 합계를 계산하세요\n",
        "print(torch.sum(M, dim=0))"
      ],
      "metadata": {
        "colab": {
          "base_uri": "https://localhost:8080/"
        },
        "id": "MDxs_v8poNzn",
        "outputId": "5b839794-1fc4-43fd-fc7e-eaf20cbe35e7"
      },
      "execution_count": null,
      "outputs": [
        {
          "output_type": "stream",
          "name": "stdout",
          "text": [
            "tensor([55, 60, 65, 70, 75])\n"
          ]
        }
      ]
    }
  ]
}
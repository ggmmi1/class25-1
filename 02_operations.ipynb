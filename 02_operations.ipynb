{
  "nbformat": 4,
  "nbformat_minor": 0,
  "metadata": {
    "colab": {
      "provenance": [],
      "authorship_tag": "ABX9TyNh45RLBALQsN84EhpxYTIP",
      "include_colab_link": true
    },
    "kernelspec": {
      "name": "python3",
      "display_name": "Python 3"
    },
    "language_info": {
      "name": "python"
    }
  },
  "cells": [
    {
      "cell_type": "markdown",
      "metadata": {
        "id": "view-in-github",
        "colab_type": "text"
      },
      "source": [
        "<a href=\"https://colab.research.google.com/github/ggmmi1/class25-1/blob/main/02_operations.ipynb\" target=\"_parent\"><img src=\"https://colab.research.google.com/assets/colab-badge.svg\" alt=\"Open In Colab\"/></a>"
      ]
    },
    {
      "cell_type": "markdown",
      "source": [
        "## 02. Tensor의 연산\n"
      ],
      "metadata": {
        "id": "FqSr7prwY_Gc"
      }
    },
    {
      "cell_type": "code",
      "execution_count": null,
      "metadata": {
        "id": "byOYO9W_Y-M3"
      },
      "outputs": [],
      "source": [
        "import torch"
      ]
    },
    {
      "cell_type": "markdown",
      "source": [
        "### 2-1. 산술 연산"
      ],
      "metadata": {
        "id": "DIFjVJehZGCF"
      }
    },
    {
      "cell_type": "code",
      "source": [
        "tensor = torch.rand(2,2)\n",
        "print(tensor)\n",
        "tensor = tensor * 2\n",
        "print(tensor)\n",
        "tensor = tensor + 1"
      ],
      "metadata": {
        "colab": {
          "base_uri": "https://localhost:8080/"
        },
        "id": "a0kVGgOZZFTD",
        "outputId": "0d98bc77-b712-48ea-a7cd-19f0d8c337ac"
      },
      "execution_count": null,
      "outputs": [
        {
          "output_type": "stream",
          "name": "stdout",
          "text": [
            "tensor([[0.6749, 0.1682],\n",
            "        [0.5041, 0.5569]])\n",
            "tensor([[1.3498, 0.3364],\n",
            "        [1.0082, 1.1138]])\n"
          ]
        }
      ]
    },
    {
      "cell_type": "code",
      "source": [
        "#1 더하기\n",
        "x = torch.rand(2,2)\n",
        "y = torch.rand(2,2)\n",
        "print(x,y)\n",
        "print(x+y)"
      ],
      "metadata": {
        "colab": {
          "base_uri": "https://localhost:8080/"
        },
        "id": "_dbyIyxnZdv0",
        "outputId": "241611fc-3e23-4180-c8d5-585ef84bfaae"
      },
      "execution_count": null,
      "outputs": [
        {
          "output_type": "stream",
          "name": "stdout",
          "text": [
            "tensor([[0.3335, 0.6209],\n",
            "        [0.3201, 0.1787]]) tensor([[0.3768, 0.9303],\n",
            "        [0.4769, 0.5047]])\n",
            "tensor([[0.7104, 1.5513],\n",
            "        [0.7970, 0.6835]])\n"
          ]
        }
      ]
    },
    {
      "cell_type": "code",
      "source": [
        "#2\n",
        "x = torch.rand(2,2)\n",
        "y = torch.rand(2,2)\n",
        "add = torch.add(x,y)\n",
        "print(x,y)\n",
        "print(x+y)\n",
        "print(add)"
      ],
      "metadata": {
        "colab": {
          "base_uri": "https://localhost:8080/"
        },
        "id": "fixO1HYyZqnW",
        "outputId": "20a7170a-ce99-4153-b458-97c3f9e14691"
      },
      "execution_count": null,
      "outputs": [
        {
          "output_type": "stream",
          "name": "stdout",
          "text": [
            "tensor([[0.1531, 0.8223],\n",
            "        [0.0150, 0.4885]]) tensor([[0.4718, 0.2869],\n",
            "        [0.4905, 0.2303]])\n",
            "tensor([[0.6249, 1.1092],\n",
            "        [0.5055, 0.7188]])\n",
            "tensor([[0.6249, 1.1092],\n",
            "        [0.5055, 0.7188]])\n"
          ]
        }
      ]
    },
    {
      "cell_type": "code",
      "source": [
        "# in - place 바꿔치기 연산\n",
        "add = torch.add(x,y)\n",
        "print(add)\n",
        "y.add_(x)  #더하기 한 결과를 y에 덮어 씌움\n",
        "print(y)"
      ],
      "metadata": {
        "colab": {
          "base_uri": "https://localhost:8080/"
        },
        "id": "CZIgVsaVZ-DU",
        "outputId": "f19abb8b-cda5-4ad6-d91c-acf4a1d7b8a7"
      },
      "execution_count": null,
      "outputs": [
        {
          "output_type": "stream",
          "name": "stdout",
          "text": [
            "tensor([[0.7780, 1.9315],\n",
            "        [0.5206, 1.2073]])\n",
            "tensor([[0.7780, 1.9315],\n",
            "        [0.5206, 1.2073]])\n"
          ]
        }
      ]
    },
    {
      "cell_type": "code",
      "source": [
        "#빼기\n",
        "x = torch.rand(2,2)\n",
        "y = torch.rand(2,2)\n",
        "sub = torch.sub(x,y)\n",
        "print(x-y)\n",
        "print(sub)\n"
      ],
      "metadata": {
        "colab": {
          "base_uri": "https://localhost:8080/"
        },
        "id": "Q8g8FF9gaVCj",
        "outputId": "f5342cdf-0127-41fc-f40c-1c1a47df89db"
      },
      "execution_count": null,
      "outputs": [
        {
          "output_type": "stream",
          "name": "stdout",
          "text": [
            "tensor([[ 0.2393, -0.3257],\n",
            "        [-0.2008,  0.0585]])\n",
            "tensor([[ 0.2393, -0.3257],\n",
            "        [-0.2008,  0.0585]])\n"
          ]
        }
      ]
    },
    {
      "cell_type": "code",
      "source": [
        "#곱하기\n",
        "x = torch.rand(2,2)\n",
        "y = torch.rand(2,2)\n",
        "mul = torch.mul(x,y)\n",
        "print(x*y)\n",
        "print(mul)\n"
      ],
      "metadata": {
        "colab": {
          "base_uri": "https://localhost:8080/"
        },
        "id": "ADm3tHoGal4-",
        "outputId": "6668ae94-6dc1-4f13-b134-d83946203cbf"
      },
      "execution_count": null,
      "outputs": [
        {
          "output_type": "stream",
          "name": "stdout",
          "text": [
            "tensor([[0.0173, 0.2029],\n",
            "        [0.1268, 0.2068]])\n",
            "tensor([[0.0173, 0.2029],\n",
            "        [0.1268, 0.2068]])\n"
          ]
        }
      ]
    },
    {
      "cell_type": "code",
      "source": [
        "#나누기\n",
        "x = torch.rand(2,2)\n",
        "y = torch.rand(2,2)\n",
        "div = torch.div(x,y)\n",
        "print(x/y)\n",
        "print(div)\n"
      ],
      "metadata": {
        "colab": {
          "base_uri": "https://localhost:8080/"
        },
        "id": "zZznAaOOareT",
        "outputId": "876a9af3-00c6-43c2-bd8c-9abfd990371c"
      },
      "execution_count": null,
      "outputs": [
        {
          "output_type": "stream",
          "name": "stdout",
          "text": [
            "tensor([[0.0163, 0.4965],\n",
            "        [0.9707, 0.5871]])\n",
            "tensor([[0.0163, 0.4965],\n",
            "        [0.9707, 0.5871]])\n"
          ]
        }
      ]
    }
  ]
}
{
  "nbformat": 4,
  "nbformat_minor": 0,
  "metadata": {
    "colab": {
      "provenance": [],
      "authorship_tag": "ABX9TyMHrhOQr9wyRnMT29t7r9Qv",
      "include_colab_link": true
    },
    "kernelspec": {
      "name": "python3",
      "display_name": "Python 3"
    },
    "language_info": {
      "name": "python"
    }
  },
  "cells": [
    {
      "cell_type": "markdown",
      "metadata": {
        "id": "view-in-github",
        "colab_type": "text"
      },
      "source": [
        "<a href=\"https://colab.research.google.com/github/ggmmi1/class25-1/blob/main/03_manipulation.ipynb\" target=\"_parent\"><img src=\"https://colab.research.google.com/assets/colab-badge.svg\" alt=\"Open In Colab\"/></a>"
      ]
    },
    {
      "cell_type": "markdown",
      "source": [
        "### 03. Tensor의 조작"
      ],
      "metadata": {
        "id": "7mKpBDEHyBAw"
      }
    },
    {
      "cell_type": "code",
      "source": [
        "import torch"
      ],
      "metadata": {
        "id": "S76ew7p2yLIX"
      },
      "execution_count": null,
      "outputs": []
    },
    {
      "cell_type": "markdown",
      "source": [
        "## 3-1. 인덱싱, 슬라이싱\n",
        "- uumpy처럼 활용"
      ],
      "metadata": {
        "id": "7-F7gFFHyD9h"
      }
    },
    {
      "cell_type": "code",
      "execution_count": null,
      "metadata": {
        "id": "73FBCc4LjSSr",
        "colab": {
          "base_uri": "https://localhost:8080/"
        },
        "outputId": "8eaab984-3ada-4bc1-a173-3e940661c70e"
      },
      "outputs": [
        {
          "output_type": "stream",
          "name": "stdout",
          "text": [
            "tensor(2)\n",
            "tensor([1, 2])\n",
            "tensor([4, 5])\n"
          ]
        },
        {
          "output_type": "execute_result",
          "data": {
            "text/plain": [
              "tensor([2, 6])"
            ]
          },
          "metadata": {},
          "execution_count": 9
        }
      ],
      "source": [
        "tensor = torch.tensor([[1,2],[3,4]])\n",
        "print(tensor[0,1])\n",
        "print(tensor[0, :])\n",
        "\n",
        "a = torch.tensor([1,2,3,4,5])\n",
        "print(a[-2:])\n",
        "\n",
        "b = torch.tensor([[1,2,3], [4,5,6], [7,8,9]])\n",
        "c = b[b > 3]\n",
        "d = b[b % 2 == 0]\n",
        "e = b[[0,1],[1,2]]\n",
        "\n",
        "e\n",
        "\n"
      ]
    },
    {
      "cell_type": "markdown",
      "source": [
        "### 3-2. Tensor의 크기, 모양 변경"
      ],
      "metadata": {
        "id": "jFZkJG909u2M"
      }
    },
    {
      "cell_type": "code",
      "source": [
        "t = torch.rand(4,5)\n",
        "print(t)\n",
        "\n",
        "x = t.view(5,4)\n",
        "print(x)\n",
        "\n",
        "y = t.view(10,-1)\n",
        "print(y)"
      ],
      "metadata": {
        "colab": {
          "base_uri": "https://localhost:8080/"
        },
        "id": "eYRpjwDp9yRd",
        "outputId": "98e68677-6b9d-4487-d42b-1416b885e4e2"
      },
      "execution_count": null,
      "outputs": [
        {
          "output_type": "stream",
          "name": "stdout",
          "text": [
            "tensor([[0.6544, 0.1603, 0.9850, 0.7239, 0.3655],\n",
            "        [0.5670, 0.2928, 0.0263, 0.6655, 0.1216],\n",
            "        [0.7841, 0.5320, 0.1338, 0.8303, 0.8323],\n",
            "        [0.0896, 0.0501, 0.6006, 0.3115, 0.9217]])\n",
            "tensor([[0.6544, 0.1603, 0.9850, 0.7239],\n",
            "        [0.3655, 0.5670, 0.2928, 0.0263],\n",
            "        [0.6655, 0.1216, 0.7841, 0.5320],\n",
            "        [0.1338, 0.8303, 0.8323, 0.0896],\n",
            "        [0.0501, 0.6006, 0.3115, 0.9217]])\n",
            "tensor([[0.6544, 0.1603],\n",
            "        [0.9850, 0.7239],\n",
            "        [0.3655, 0.5670],\n",
            "        [0.2928, 0.0263],\n",
            "        [0.6655, 0.1216],\n",
            "        [0.7841, 0.5320],\n",
            "        [0.1338, 0.8303],\n",
            "        [0.8323, 0.0896],\n",
            "        [0.0501, 0.6006],\n",
            "        [0.3115, 0.9217]])\n"
          ]
        }
      ]
    },
    {
      "cell_type": "markdown",
      "source": [
        "### 3-3. Tensor의 숫자값 얻기"
      ],
      "metadata": {
        "id": "NYAgEmLB-Wui"
      }
    },
    {
      "cell_type": "code",
      "source": [
        "x = torch.tensor(10)\n",
        "print(x.item())\n",
        "\n",
        "y = torch.rand(1)\n",
        "print(y)\n",
        "print(y.item())"
      ],
      "metadata": {
        "colab": {
          "base_uri": "https://localhost:8080/"
        },
        "id": "ekEpwOxZ-aLN",
        "outputId": "01c38576-8203-4626-d069-0ca06ea29c69"
      },
      "execution_count": null,
      "outputs": [
        {
          "output_type": "stream",
          "name": "stdout",
          "text": [
            "10\n",
            "tensor([0.5470])\n",
            "0.5470072627067566\n"
          ]
        }
      ]
    },
    {
      "cell_type": "markdown",
      "source": [
        "###3-4. 차원 축소와 증가"
      ],
      "metadata": {
        "id": "hG-5TMSg-xIJ"
      }
    },
    {
      "cell_type": "markdown",
      "source": [
        "### 3-4-1. 차원 축소\n",
        "-torch.squeeze() : 크기가 1인 차원을 축소\n",
        "\n"
      ],
      "metadata": {
        "id": "U4GZ5Co3-3wG"
      }
    },
    {
      "cell_type": "code",
      "source": [
        "t = torch.rand(1,3,3)\n",
        "print(t)\n",
        "print(t.shape)\n",
        "\n",
        "ts = torch.squeeze(t)\n",
        "print(ts)\n",
        "print(ts.shape)"
      ],
      "metadata": {
        "colab": {
          "base_uri": "https://localhost:8080/"
        },
        "id": "EvpDFDAu-0Ai",
        "outputId": "ac049e96-ba29-489e-8ce8-b7c1f864d27d"
      },
      "execution_count": null,
      "outputs": [
        {
          "output_type": "stream",
          "name": "stdout",
          "text": [
            "tensor([[[0.9601, 0.2236, 0.6979],\n",
            "         [0.6971, 0.8912, 0.8256],\n",
            "         [0.2861, 0.9684, 0.5899]]])\n",
            "torch.Size([1, 3, 3])\n",
            "tensor([[0.9601, 0.2236, 0.6979],\n",
            "        [0.6971, 0.8912, 0.8256],\n",
            "        [0.2861, 0.9684, 0.5899]])\n",
            "torch.Size([3, 3])\n"
          ]
        }
      ]
    },
    {
      "cell_type": "markdown",
      "source": [
        "### 3-4-2. 차원 증가(생성)\n",
        "\n",
        "torch.unsqueeze(): 지정한 위치에 새로운 차원을 생성"
      ],
      "metadata": {
        "id": "_7mAAOWe_m21"
      }
    },
    {
      "cell_type": "code",
      "source": [
        "t= torch.rand(3,3,3)\n",
        "print(t)\n",
        "print(t.shape)\n",
        "\n",
        "ts = torch.unsqueeze(t, 3)\n",
        "print(ts)\n",
        "print(ts.shape)"
      ],
      "metadata": {
        "colab": {
          "base_uri": "https://localhost:8080/"
        },
        "id": "MjQeRQv__q-2",
        "outputId": "c5e53d9e-80a3-4ded-c6a8-f37f1ed034db"
      },
      "execution_count": null,
      "outputs": [
        {
          "output_type": "stream",
          "name": "stdout",
          "text": [
            "tensor([[[0.9818, 0.5419, 0.3793],\n",
            "         [0.8295, 0.7234, 0.5217],\n",
            "         [0.2283, 0.2875, 0.5813]],\n",
            "\n",
            "        [[0.1361, 0.2900, 0.4058],\n",
            "         [0.8791, 0.6506, 0.4892],\n",
            "         [0.4330, 0.9867, 0.7718]],\n",
            "\n",
            "        [[0.3784, 0.4567, 0.1206],\n",
            "         [0.0692, 0.9553, 0.8842],\n",
            "         [0.4316, 0.4256, 0.0302]]])\n",
            "torch.Size([3, 3, 3])\n",
            "tensor([[[[0.9818],\n",
            "          [0.5419],\n",
            "          [0.3793]],\n",
            "\n",
            "         [[0.8295],\n",
            "          [0.7234],\n",
            "          [0.5217]],\n",
            "\n",
            "         [[0.2283],\n",
            "          [0.2875],\n",
            "          [0.5813]]],\n",
            "\n",
            "\n",
            "        [[[0.1361],\n",
            "          [0.2900],\n",
            "          [0.4058]],\n",
            "\n",
            "         [[0.8791],\n",
            "          [0.6506],\n",
            "          [0.4892]],\n",
            "\n",
            "         [[0.4330],\n",
            "          [0.9867],\n",
            "          [0.7718]]],\n",
            "\n",
            "\n",
            "        [[[0.3784],\n",
            "          [0.4567],\n",
            "          [0.1206]],\n",
            "\n",
            "         [[0.0692],\n",
            "          [0.9553],\n",
            "          [0.8842]],\n",
            "\n",
            "         [[0.4316],\n",
            "          [0.4256],\n",
            "          [0.0302]]]])\n",
            "torch.Size([3, 3, 3, 1])\n"
          ]
        }
      ]
    },
    {
      "cell_type": "markdown",
      "source": [
        "### 3-5. Tensor간 결합"
      ],
      "metadata": {
        "id": "H6MyCCNPARdF"
      }
    },
    {
      "cell_type": "markdown",
      "source": [
        "- torch.stack(): 동일한 형식의 Tensor을 새롭게 그룹화 함\n",
        "\n",
        "- 새로운 차원 생성"
      ],
      "metadata": {
        "id": "xyyJYl2JAW-f"
      }
    },
    {
      "cell_type": "code",
      "source": [
        "x = torch.tensor([[1,2], [3,4]])\n",
        "y = torch.tensor([[5,6], [7,8]])\n",
        "z = torch.stack([x,y])\n",
        "print(z)\n",
        "print(z.shape)"
      ],
      "metadata": {
        "colab": {
          "base_uri": "https://localhost:8080/"
        },
        "id": "uUJuQbnmAUzV",
        "outputId": "436c3bf1-e6f4-47d6-ddad-e4248560e460"
      },
      "execution_count": null,
      "outputs": [
        {
          "output_type": "stream",
          "name": "stdout",
          "text": [
            "tensor([[[1, 2],\n",
            "         [3, 4]],\n",
            "\n",
            "        [[5, 6],\n",
            "         [7, 8]]])\n",
            "torch.Size([2, 2, 2])\n"
          ]
        }
      ]
    },
    {
      "cell_type": "markdown",
      "source": [
        "- torch.cat() : 하나의 Tensor로 병합\n",
        "- 새로운 차원 생성 x"
      ],
      "metadata": {
        "id": "T7eZ0ytGA-1A"
      }
    },
    {
      "cell_type": "code",
      "source": [
        "x = torch.tensor([[1,2], [3,4]])\n",
        "y = torch.tensor([[5,6], [7,8]])\n",
        "z = torch.cat((x,y), dim=0) #dim 지정에 따라 합쳐지는 것도 달라진다.\n",
        "print(z)"
      ],
      "metadata": {
        "colab": {
          "base_uri": "https://localhost:8080/"
        },
        "id": "8X5855DZBMOn",
        "outputId": "a34c850e-134c-4973-86c3-12768a2a31b8"
      },
      "execution_count": null,
      "outputs": [
        {
          "output_type": "stream",
          "name": "stdout",
          "text": [
            "tensor([[1, 2],\n",
            "        [3, 4],\n",
            "        [5, 6],\n",
            "        [7, 8]])\n"
          ]
        }
      ]
    },
    {
      "cell_type": "markdown",
      "source": [
        "### 3-6 Tensor 나누기"
      ],
      "metadata": {
        "id": "9fhAcjQXB-dr"
      }
    },
    {
      "cell_type": "markdown",
      "source": [
        "- torch.chunk()\n",
        "- Tensor를 몇 개로 나눌지 지정\n",
        "- 나누어 떨어지지 않으면 마지막 조각은 크기 다를 수 있음"
      ],
      "metadata": {
        "id": "0_leR6bACEAn"
      }
    },
    {
      "cell_type": "code",
      "source": [
        "t = torch.rand(3,3)\n",
        "print(t)\n",
        "\n",
        "#쪼개서 표현\n",
        "a, b, c = torch.chunk(t, 3,dim=0) #3개로 쪼개서 출력한다.\n",
        "print(a)\n",
        "print(b)\n",
        "print(c)"
      ],
      "metadata": {
        "colab": {
          "base_uri": "https://localhost:8080/"
        },
        "id": "oktBg3AgCCqr",
        "outputId": "3df895fb-a780-4a77-87aa-47f0fa4114be"
      },
      "execution_count": null,
      "outputs": [
        {
          "output_type": "stream",
          "name": "stdout",
          "text": [
            "tensor([[0.8732, 0.4744, 0.6023],\n",
            "        [0.0854, 0.7077, 0.7292],\n",
            "        [0.5729, 0.7025, 0.2396]])\n",
            "tensor([[0.8732, 0.4744, 0.6023]])\n",
            "tensor([[0.0854, 0.7077, 0.7292]])\n",
            "tensor([[0.5729, 0.7025, 0.2396]])\n"
          ]
        }
      ]
    },
    {
      "cell_type": "markdown",
      "source": [
        "- torch.split()\n",
        " - Tensor의 크기를 기준으로 나눔\n"
      ],
      "metadata": {
        "id": "euCBvEjfDIYr"
      }
    },
    {
      "cell_type": "code",
      "source": [
        "t  = torch.rand(3,3)\n",
        "print(t)\n",
        "\n",
        "x = torch.split(t, 3, dim=0)\n",
        "print(x)"
      ],
      "metadata": {
        "colab": {
          "base_uri": "https://localhost:8080/"
        },
        "id": "4dnwzIN3CYtH",
        "outputId": "589d3f06-99bc-4445-fe4d-8876b2fcc24e"
      },
      "execution_count": null,
      "outputs": [
        {
          "output_type": "stream",
          "name": "stdout",
          "text": [
            "tensor([[0.6954, 0.5911, 0.5689],\n",
            "        [0.8600, 0.9703, 0.1623],\n",
            "        [0.0450, 0.9874, 0.8058]])\n",
            "(tensor([[0.6954, 0.5911, 0.5689],\n",
            "        [0.8600, 0.9703, 0.1623],\n",
            "        [0.0450, 0.9874, 0.8058]]),)\n"
          ]
        }
      ]
    },
    {
      "cell_type": "code",
      "source": [
        "t  = torch.tensor([1,2,3,4,5])\n",
        "print(t)\n",
        "\n",
        "x, y, z = torch.split(t, [2,2,1], dim=0)\n",
        "print(x)\n",
        "print(y)\n",
        "print(z)"
      ],
      "metadata": {
        "colab": {
          "base_uri": "https://localhost:8080/"
        },
        "id": "SjhJfJatEVpn",
        "outputId": "0a2f4764-4d53-43bf-8046-92f923488e41"
      },
      "execution_count": null,
      "outputs": [
        {
          "output_type": "stream",
          "name": "stdout",
          "text": [
            "tensor([1, 2, 3, 4, 5])\n",
            "tensor([1, 2])\n",
            "tensor([3, 4])\n",
            "tensor([5])\n"
          ]
        }
      ]
    }
  ]
}
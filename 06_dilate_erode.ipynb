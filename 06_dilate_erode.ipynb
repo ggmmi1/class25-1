{
 "cells": [
  {
   "cell_type": "code",
   "execution_count": 16,
   "metadata": {},
   "outputs": [
    {
     "name": "stdout",
     "output_type": "stream",
     "text": [
      "Collecting pillow\n",
      "  Downloading pillow-11.1.0-cp313-cp313-macosx_10_13_x86_64.whl.metadata (9.1 kB)\n",
      "Downloading pillow-11.1.0-cp313-cp313-macosx_10_13_x86_64.whl (3.2 MB)\n",
      "\u001b[2K   \u001b[90m━━━━━━━━━━━━━━━━━━━━━━━━━━━━━━━━━━━━━━━━\u001b[0m \u001b[32m3.2/3.2 MB\u001b[0m \u001b[31m9.2 MB/s\u001b[0m eta \u001b[36m0:00:00\u001b[0ma \u001b[36m0:00:01\u001b[0m\n",
      "\u001b[?25hInstalling collected packages: pillow\n",
      "Successfully installed pillow-11.1.0\n",
      "\n",
      "\u001b[1m[\u001b[0m\u001b[34;49mnotice\u001b[0m\u001b[1;39;49m]\u001b[0m\u001b[39;49m A new release of pip is available: \u001b[0m\u001b[31;49m24.2\u001b[0m\u001b[39;49m -> \u001b[0m\u001b[32;49m24.3.1\u001b[0m\n",
      "\u001b[1m[\u001b[0m\u001b[34;49mnotice\u001b[0m\u001b[1;39;49m]\u001b[0m\u001b[39;49m To update, run: \u001b[0m\u001b[32;49mpip install --upgrade pip\u001b[0m\n",
      "Note: you may need to restart the kernel to use updated packages.\n"
     ]
    }
   ],
   "source": [
    "%pip install pillow"
   ]
  },
  {
   "cell_type": "code",
   "execution_count": 1,
   "metadata": {},
   "outputs": [
    {
     "name": "stdout",
     "output_type": "stream",
     "text": [
      "Requirement already satisfied: numpy in ./my_cv/lib/python3.13/site-packages (2.2.1)\n",
      "\n",
      "\u001b[1m[\u001b[0m\u001b[34;49mnotice\u001b[0m\u001b[1;39;49m]\u001b[0m\u001b[39;49m A new release of pip is available: \u001b[0m\u001b[31;49m24.2\u001b[0m\u001b[39;49m -> \u001b[0m\u001b[32;49m24.3.1\u001b[0m\n",
      "\u001b[1m[\u001b[0m\u001b[34;49mnotice\u001b[0m\u001b[1;39;49m]\u001b[0m\u001b[39;49m To update, run: \u001b[0m\u001b[32;49mpip install --upgrade pip\u001b[0m\n",
      "Note: you may need to restart the kernel to use updated packages.\n"
     ]
    }
   ],
   "source": [
    "%pip install --upgrade numpy"
   ]
  },
  {
   "cell_type": "code",
   "execution_count": 1,
   "metadata": {},
   "outputs": [
    {
     "name": "stdout",
     "output_type": "stream",
     "text": [
      "\u001b[31mERROR: Could not find a version that satisfies the requirement cv2 (from versions: none)\u001b[0m\u001b[31m\n",
      "\u001b[0m\n",
      "\u001b[1m[\u001b[0m\u001b[34;49mnotice\u001b[0m\u001b[1;39;49m]\u001b[0m\u001b[39;49m A new release of pip is available: \u001b[0m\u001b[31;49m24.2\u001b[0m\u001b[39;49m -> \u001b[0m\u001b[32;49m24.3.1\u001b[0m\n",
      "\u001b[1m[\u001b[0m\u001b[34;49mnotice\u001b[0m\u001b[1;39;49m]\u001b[0m\u001b[39;49m To update, run: \u001b[0m\u001b[32;49mpip install --upgrade pip\u001b[0m\n",
      "\u001b[31mERROR: No matching distribution found for cv2\u001b[0m\u001b[31m\n",
      "\u001b[0mNote: you may need to restart the kernel to use updated packages.\n"
     ]
    }
   ],
   "source": [
    "%pip install --upgrade cv2"
   ]
  },
  {
   "cell_type": "code",
   "execution_count": null,
   "metadata": {},
   "outputs": [],
   "source": [
    "#팽찰과 침식"
   ]
  },
  {
   "cell_type": "code",
   "execution_count": 2,
   "metadata": {},
   "outputs": [],
   "source": [
    "import cv2\n",
    "import numpy as np\n",
    "\n",
    "DILATE = \"images/dilate.png\"\n",
    "ERODE = \"images/erode.png\""
   ]
  },
  {
   "cell_type": "code",
   "execution_count": null,
   "metadata": {},
   "outputs": [
    {
     "name": "stderr",
     "output_type": "stream",
     "text": [
      "2025-01-04 10:10:46.937 Python[34217:2979304] +[IMKClient subclass]: chose IMKClient_Modern\n",
      "2025-01-04 10:10:46.937 Python[34217:2979304] +[IMKInputSession subclass]: chose IMKInputSession_Modern\n"
     ]
    }
   ],
   "source": [
    "img = cv2.imread(DILATE)\n",
    "\n",
    "kernel = np.ones((3,3))\n",
    "dilate_1 = cv2.dilate(img, kernel, iterations=1)\n",
    "dilate_2 = cv2.dilate(img, kernel, iterations=2)\n",
    "dilate_3 = cv2.dilate(img, kernel, iterations=3)\n",
    "\n",
    "cv2.imshow(\"img\", img)\n",
    "cv2.imshow(\"dilate_1\", dilate_1)\n",
    "\n",
    "cv2.imshow(\"dilate_2\", dilate_2)\n",
    "cv2.imshow(\"dilate_3\", dilate_3)\n",
    "\n",
    "cv2.waitKey(0)\n",
    "cv2.destroyAllWindows()\n",
    "\n",
    "\n"
   ]
  },
  {
   "cell_type": "code",
   "execution_count": 4,
   "metadata": {},
   "outputs": [],
   "source": [
    "# 6-2 침식\n",
    "#흰색 영역의 외곽을 검은색으로 변경"
   ]
  },
  {
   "cell_type": "code",
   "execution_count": null,
   "metadata": {},
   "outputs": [
    {
     "name": "stderr",
     "output_type": "stream",
     "text": [
      "2025-01-04 10:13:21.924 Python[34238:2981950] +[IMKClient subclass]: chose IMKClient_Modern\n",
      "2025-01-04 10:13:21.924 Python[34238:2981950] +[IMKInputSession subclass]: chose IMKInputSession_Modern\n"
     ]
    }
   ],
   "source": [
    "img = cv2.imread(ERODE)\n",
    "\n",
    "kernel = np.ones((3,3), dtype = np.uint8)\n",
    "erode_1 = cv2.dilate(img, kernel, iterations=1)\n",
    "erode_2 = cv2.dilate(img, kernel, iterations=2)\n",
    "erode_3= cv2.dilate(img, kernel, iterations=3)\n",
    "\n",
    "cv2.imshow(\"img\", img)\n",
    "cv2.imshow(\"erode_1\", erode_1)\n",
    "cv2.imshow(\"erode_2\", erode_2)\n",
    "cv2.imshow(\"erode_3\", erode_3)\n",
    "\n",
    "cv2.waitKey(0)\n",
    "cv2.destroyAllWindows()\n",
    "\n",
    "\n"
   ]
  },
  {
   "cell_type": "code",
   "execution_count": null,
   "metadata": {},
   "outputs": [],
   "source": [
    "#팽창 후 열림"
   ]
  },
  {
   "cell_type": "code",
   "execution_count": null,
   "metadata": {},
   "outputs": [],
   "source": [
    "img = cv2.imread(ERODE)\n",
    "\n",
    "kernel = np.ones((3,3), dtype = np.uint8)\n",
    "erode_3= cv2.dilate(img, kernel, iterations=3)\n",
    "dilate_3 = cv2.dilate(erode_3, kernel, iterations=3)\n",
    "\n",
    "cv2.imshow(\"img\", img)\n",
    "cv2.imshow(\"erode_1\", erode_1)\n",
    "\n",
    "\n",
    "cv2.waitKey(0)\n",
    "cv2.destroyAllWindows()"
   ]
  },
  {
   "cell_type": "code",
   "execution_count": 1,
   "metadata": {},
   "outputs": [],
   "source": [
    "#팽창 후 침식"
   ]
  },
  {
   "cell_type": "code",
   "execution_count": 3,
   "metadata": {},
   "outputs": [
    {
     "name": "stderr",
     "output_type": "stream",
     "text": [
      "2025-01-04 10:16:14.428 Python[34255:2983334] +[IMKClient subclass]: chose IMKClient_Modern\n",
      "2025-01-04 10:16:14.428 Python[34255:2983334] +[IMKInputSession subclass]: chose IMKInputSession_Modern\n"
     ]
    }
   ],
   "source": [
    "import cv2\n",
    "import numpy as np\n",
    "\n",
    "DILATE = \"images/dilate.png\"\n",
    "ERODE = \"images/erode.png\"\n",
    "\n",
    "img = cv2.imread(DILATE)\n",
    "\n",
    "kernel = np.ones((3,3), dtype = np.uint8)\n",
    "erode_3= cv2.dilate(img, kernel, iterations=3)\n",
    "dilate_3 = cv2.erode(erode_3, kernel, iterations=3)\n",
    "\n",
    "cv2.imshow(\"img\", img)\n",
    "cv2.imshow(\"open\", erode_3)\n",
    "\n",
    "\n",
    "cv2.waitKey(0)\n",
    "cv2.destroyAllWindows()"
   ]
  }
 ],
 "metadata": {
  "kernelspec": {
   "display_name": "my_cv",
   "language": "python",
   "name": "python3"
  },
  "language_info": {
   "codemirror_mode": {
    "name": "ipython",
    "version": 3
   },
   "file_extension": ".py",
   "mimetype": "text/x-python",
   "name": "python",
   "nbconvert_exporter": "python",
   "pygments_lexer": "ipython3",
   "version": "3.13.0"
  }
 },
 "nbformat": 4,
 "nbformat_minor": 2
}

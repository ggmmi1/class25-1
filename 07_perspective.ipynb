{
 "cells": [
  {
   "cell_type": "markdown",
   "metadata": {},
   "source": [
    "##07. 원근 변환\n"
   ]
  },
  {
   "cell_type": "code",
   "execution_count": 1,
   "metadata": {},
   "outputs": [],
   "source": [
    "import cv2\n",
    "import numpy as np\n",
    "CARD = \"images/card.jpg\""
   ]
  },
  {
   "cell_type": "code",
   "execution_count": null,
   "metadata": {},
   "outputs": [
    {
     "name": "stderr",
     "output_type": "stream",
     "text": [
      "2025-01-04 10:32:25.703 Python[34411:2989765] +[IMKClient subclass]: chose IMKClient_Modern\n",
      "2025-01-04 10:32:25.703 Python[34411:2989765] +[IMKInputSession subclass]: chose IMKInputSession_Modern\n"
     ]
    }
   ],
   "source": [
    "import cv2\n",
    "import numpy as np\n",
    "CARD = \"images/card.jpg\"\n",
    "\n",
    "img = cv2.imread(CARD)\n",
    "\n",
    "#변형할 지점 선택: 시계방향\n",
    "width, height = 600, 250\n",
    "src = np.array([[54, 261], [981, 128], [1213, 560], [194,735]], dtype=np.float32)  \n",
    "\n",
    "#결과물 출력할 형태: 시계방향\n",
    "\n",
    "dst = np.array([[0,0], [width,0],[width, height], [0,height]], dtype=np.float32)\n",
    "\n",
    "#원근을 변형하기 위한 matrix 생성\n",
    "mat = cv2.getPerspectiveTransform(src, dst)\n",
    "\n",
    "#img를 mat에 의해 변환\n",
    "result = cv2.warpPerspective(img, mat, (width, height)) \n",
    "\n",
    "cv2.imshow(\"img\", img)\n",
    "cv2.imshow(\"perspective\", result)\n",
    "\n",
    "cv2.waitKey(0)\n",
    "cv2.destroyAllWindows()\n"
   ]
  },
  {
   "cell_type": "code",
   "execution_count": 1,
   "metadata": {},
   "outputs": [
    {
     "name": "stderr",
     "output_type": "stream",
     "text": [
      "2025-01-04 10:52:28.800 Python[34724:3017252] +[IMKClient subclass]: chose IMKClient_Modern\n",
      "2025-01-04 10:52:28.800 Python[34724:3017252] +[IMKInputSession subclass]: chose IMKInputSession_Modern\n"
     ]
    }
   ],
   "source": [
    "#실습\n",
    "import cv2\n",
    "import numpy as np\n",
    "CARD = \"images/IMG_6739.jpg\"\n",
    "\n",
    "img = cv2.imread(CARD)\n",
    "\n",
    "#변형할 지점 선택: 시계방향\n",
    "width, height = 600, 250\n",
    "src = np.array([[1206, 1015], [2543, 1367], [1936, 3662], [469,3170]], dtype=np.float32)  \n",
    "\n",
    "#결과물 출력할 형태: 시계방향\n",
    "\n",
    "dst = np.array([[0,0], [width,0],[width, height], [0,height]], dtype=np.float32)\n",
    "\n",
    "#원근을 변형하기 위한 matrix 생성\n",
    "mat = cv2.getPerspectiveTransform(src, dst)\n",
    "\n",
    "#img를 mat에 의해 변환\n",
    "result = cv2.warpPerspective(img, mat, (width, height)) \n",
    "\n",
    "cv2.imshow(\"img\", img)\n",
    "cv2.imshow(\"perspective\", result)\n",
    "\n",
    "cv2.waitKey(0)\n",
    "cv2.destroyAllWindows()"
   ]
  }
 ],
 "metadata": {
  "kernelspec": {
   "display_name": "my_cv",
   "language": "python",
   "name": "python3"
  },
  "language_info": {
   "codemirror_mode": {
    "name": "ipython",
    "version": 3
   },
   "file_extension": ".py",
   "mimetype": "text/x-python",
   "name": "python",
   "nbconvert_exporter": "python",
   "pygments_lexer": "ipython3",
   "version": "3.13.0"
  }
 },
 "nbformat": 4,
 "nbformat_minor": 2
}

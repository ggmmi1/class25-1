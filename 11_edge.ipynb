{
 "cells": [
  {
   "cell_type": "markdown",
   "metadata": {},
   "source": [
    "11. 경계선 검출(canny edge detection)\n",
    "- 약한 임계값고 강한 임계값을 사용해 경계선을 검출\n",
    "- 그레이스케일 적용 -> 블러로 노이즈 제거 -> canny 적용"
   ]
  },
  {
   "cell_type": "code",
   "execution_count": null,
   "metadata": {},
   "outputs": [],
   "source": [
    "import cv2"
   ]
  },
  {
   "cell_type": "code",
   "execution_count": 5,
   "metadata": {},
   "outputs": [
    {
     "name": "stderr",
     "output_type": "stream",
     "text": [
      "2025-01-06 13:12:44.767 Python[40544:3376129] +[IMKClient subclass]: chose IMKClient_Modern\n",
      "2025-01-06 13:12:44.767 Python[40544:3376129] +[IMKInputSession subclass]: chose IMKInputSession_Modern\n"
     ]
    }
   ],
   "source": [
    "import cv2\n",
    "\n",
    "MOUNTAIN = \"images/mountain.jpg\"\n",
    "\n",
    "#기본 구현\n",
    "img = cv2.imread(MOUNTAIN, cv2.IMREAD_GRAYSCALE)\n",
    "canny = cv2.Canny(img, 50, 150) #약한 임계값 50, 강한 150ㅜ임의 설정\n",
    "\n",
    "cv2.imshow(\"img\", img)\n",
    "cv2.imshow(\"Canny\", canny)\n",
    "cv2.waitKey(0)\n",
    "cv2.destroyAllWindows()"
   ]
  },
  {
   "cell_type": "markdown",
   "metadata": {},
   "source": [
    "### 11-2. 트랙바"
   ]
  },
  {
   "cell_type": "code",
   "execution_count": 1,
   "metadata": {},
   "outputs": [
    {
     "name": "stderr",
     "output_type": "stream",
     "text": [
      "2025-01-06 13:31:25.467 Python[40696:3389599] +[IMKClient subclass]: chose IMKClient_Modern\n",
      "2025-01-06 13:31:25.468 Python[40696:3389599] +[IMKInputSession subclass]: chose IMKInputSession_Modern\n"
     ]
    }
   ],
   "source": [
    "import cv2\n",
    "\n",
    "MOUNTAIN = \"images/mountain.jpg\"\n",
    "\n",
    "#기본 구현\n",
    "img = cv2.imread(MOUNTAIN, cv2.IMREAD_GRAYSCALE)\n",
    "name = \"Canny\"\n",
    "cv2.namedWindow(name)\n",
    "\n",
    "cv2.createTrackbar(\"threshold_1\", name, 50, 255, lambda x:x)\n",
    "cv2.createTrackbar(\"threshold_2\", name, 150, 255, lambda x:x)\n",
    "\n",
    "while True:\n",
    "    threshold_1 = cv2.getTrackbarPos(\"threshold_1\", name)\n",
    "    threshold_2 = cv2.getTrackbarPos(\"threshold_2\", name)\n",
    "    canny = cv2.Canny(img, threshold_1, threshold_2) \n",
    "    cv2.imshow(name, canny)\n",
    "    \n",
    "    if cv2.waitKey(1) == ord(\"q\"):\n",
    "        break\n",
    "    \n",
    "cv2.destroyAllWindows()\n",
    "    "
   ]
  },
  {
   "cell_type": "markdown",
   "metadata": {},
   "source": [
    "##실습2 캠 화면에 검출"
   ]
  },
  {
   "cell_type": "code",
   "execution_count": null,
   "metadata": {},
   "outputs": [
    {
     "name": "stderr",
     "output_type": "stream",
     "text": [
      "2025-01-06 13:40:18.830 Python[40740:3393997] +[IMKClient subclass]: chose IMKClient_Modern\n",
      "2025-01-06 13:40:18.830 Python[40740:3393997] +[IMKInputSession subclass]: chose IMKInputSession_Modern\n"
     ]
    }
   ],
   "source": [
    "import cv2\n",
    "cap = cv2.VideoCapture(0)\n",
    "\n",
    "#기본 구현\n",
    "\n",
    "name = \"cam\"\n",
    "cv2.namedWindow(name)\n",
    "cv2.createTrackbar(\"threshold_1\", name, 10, 255, lambda x:x)\n",
    "cv2.createTrackbar(\"threshold_2\", name, 150, 255, lambda x:x)\n",
    "\n",
    "if not cap.isOpened():\n",
    "    exit()\n",
    "    \n",
    "while True:\n",
    "    ret, frame = cap.read()\n",
    "    \n",
    "    threshold_1 = cv2.getTrackbarPos(\"threshold_1\", name)\n",
    "    threshold_2 = cv2.getTrackbarPos(\"threshold_2\", name)\n",
    "    \n",
    "    canny_frame = cv2.Canny(frame, threshold_1, threshold_2) \n",
    "    cv2.imshow(name, canny_frame)\n",
    "    \n",
    "    if cv2.waitKey(1) == ord(\"q\"):\n",
    "        break\n",
    " \n",
    "    if not ret:\n",
    "        break\n",
    "    \n",
    "    if cv2.waitKey(1) == ord(\"q\"): \n",
    "       break\n",
    "        \n",
    "cap.release()\n",
    "cv2.destroyAllWindows()"
   ]
  },
  {
   "cell_type": "code",
   "execution_count": 5,
   "metadata": {},
   "outputs": [
    {
     "name": "stderr",
     "output_type": "stream",
     "text": [
      "2025-01-06 13:55:16.758 Python[40740:3393997] error messaging the mach port for IMKCFRunLoopWakeUpReliable\n"
     ]
    }
   ],
   "source": [
    "img = cv2.imread(\"images/tree.jpg\", cv2.IMREAD_GRAYSCALE)\n",
    "blurred = cv2.GaussianBlur(img, (0,0), 3)\n",
    "\n",
    "canny_img = cv2.Canny(img, 50, 150)\n",
    "canny_blurred = cv2.Canny(blurred, 50, 150)\n",
    "\n",
    "cv2.imshow(\"img\", canny_img)\n",
    "cv2.imshow(\"blurred\", canny_blurred)\n",
    "\n",
    "cv2.waitKey(0)\n",
    "cv2.destroyAllWindows()\n",
    "\n"
   ]
  }
 ],
 "metadata": {
  "kernelspec": {
   "display_name": "my_cv",
   "language": "python",
   "name": "python3"
  },
  "language_info": {
   "codemirror_mode": {
    "name": "ipython",
    "version": 3
   },
   "file_extension": ".py",
   "mimetype": "text/x-python",
   "name": "python",
   "nbconvert_exporter": "python",
   "pygments_lexer": "ipython3",
   "version": "3.13.0"
  }
 },
 "nbformat": 4,
 "nbformat_minor": 2
}

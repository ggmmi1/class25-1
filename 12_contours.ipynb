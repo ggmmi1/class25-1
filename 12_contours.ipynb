{
 "cells": [
  {
   "cell_type": "markdown",
   "metadata": {},
   "source": [
    "## 12. 윤곽선 검출\n",
    "- 경계선을 연결한 선\n",
    "- 흑백 이미지 -> 이진화 -> 윤곽선 찾기(findCountours)-> 윤곽선 그리기(drawingContours)"
   ]
  },
  {
   "cell_type": "code",
   "execution_count": 2,
   "metadata": {},
   "outputs": [],
   "source": [
    "import cv2\n",
    "\n",
    "dog = \"images/ryu.jpg\""
   ]
  },
  {
   "cell_type": "code",
   "execution_count": 10,
   "metadata": {},
   "outputs": [],
   "source": [
    "img = cv2.imread(dog)\n",
    "coppied = img.copy()\n",
    "coppied_2 = img.copy()\n",
    "\n",
    "#그레이 스케일로 변환\n",
    "gray = cv2.cvtColor(coppied, cv2.COLOR_BGR2GRAY)\n",
    "\n",
    "#이진화\n",
    "ret, binary = cv2.threshold(gray, -1, 255, cv2.THRESH_BINARY | cv2.THRESH_OTSU)\n",
    "\n",
    "#윤곽선 찾기\n",
    "contours, hierachy = cv2.findContours(binary, cv2.RETR_LIST, cv2.CHAIN_APPROX_NONE)\n",
    "contours_2, hierachy_2 = cv2.findContours(binary, cv2.RETR_EXTERNAL, cv2.CHAIN_APPROX_NONE)\n",
    "\n",
    "#윤곽선 그리기\n",
    "cv2.drawContours(coppied, contours, -1, (0, 255, 0), 2 ) #-1 모든 윤곽선 다 그린다.\n",
    "cv2.drawContours(coppied_2, contours_2, -1, (0, 255, 0), 2 )\n",
    "\n",
    "cv2.imshow(\"img\", img)\n",
    "cv2.imshow(\"countours\", coppied)\n",
    "cv2.imshow(\"countours_2\", coppied_2)\n",
    "\n",
    "cv2.waitKey(0)\n",
    "cv2.destroyAllWindows()"
   ]
  },
  {
   "cell_type": "markdown",
   "metadata": {},
   "source": [
    "##12-2. BoundingRect\n",
    "-윤곽선을 둘러싼 사각형 그리기"
   ]
  },
  {
   "cell_type": "code",
   "execution_count": 12,
   "metadata": {},
   "outputs": [],
   "source": [
    "img = cv2.imread(dog)\n",
    "coppied = img.copy()\n",
    "\n",
    "gray = cv2.cvtColor(coppied, cv2.COLOR_BGR2GRAY)\n",
    "ret, binary = cv2.threshold(gray, -1, 255, cv2.THRESH_BINARY | cv2.THRESH_OTSU)\n",
    "\n",
    "contours, hierachy = cv2.findContours(binary, cv2.RETR_LIST, cv2.CHAIN_APPROX_NONE)\n",
    "\n",
    "for contour in contours:\n",
    "    x, y, width, height = cv2.boundingRect(contour)\n",
    "    cv2.rectangle(coppied,(x,y), (x+width, y+height), (255,255,1), 10)\n",
    "\n",
    "cv2.imshow(\"countours\", coppied)\n",
    "\n",
    "cv2.waitKey(0)\n",
    "cv2.destroyAllWindows()"
   ]
  },
  {
   "cell_type": "markdown",
   "metadata": {},
   "source": [
    "## 실습 순서대로 박스 표시\n",
    "- 인덱스 트랙바를 만들고 트랙바의 인덱스 값을 변형 하면 생성된 박스가 순서대호 화면에 띄워지도록 구현하기"
   ]
  },
  {
   "cell_type": "code",
   "execution_count": 26,
   "metadata": {},
   "outputs": [],
   "source": [
    "import cv2\n",
    "test = \"images/vehicles.png\"\n",
    "\n",
    "img = cv2.imread(test)\n",
    "name = \"vehicles\"\n",
    "cv2.namedWindow(name)\n",
    "\n",
    "coppied = img.copy()\n",
    "\n",
    "contour_boxes = []\n",
    "\n",
    "gray = cv2.cvtColor(img, cv2.COLOR_BGR2GRAY)\n",
    "ret, binary = cv2.threshold(gray, -1, 255, cv2.THRESH_BINARY | cv2.THRESH_OTSU)\n",
    "\n",
    "\n",
    "contours, hierarchy = cv2.findContours(binary, cv2.RETR_LIST, cv2.CHAIN_APPROX_NONE)\n",
    "\n",
    "for contour in contours:\n",
    "    x, y, width, height = cv2.boundingRect(contour)\n",
    "    contour_boxes.append((x, y, width, height))\n",
    "\n",
    "\n",
    "def On_trackbar(val):\n",
    "    global coppied\n",
    "    coppied = img.copy()  \n",
    "    if val < len(contour_boxes):\n",
    "        x, y, width, height = contour_boxes[val]\n",
    "        cv2.rectangle(coppied, (x, y), (x + width, y + height), (0, 255, 0), 3)\n",
    "    cv2.imshow(name, coppied)\n",
    "\n",
    "# 트랙바 생성\n",
    "cv2.createTrackbar(\"index\", name, 0, len(contour_boxes) - 1, On_trackbar)\n",
    "\n",
    "\n",
    "On_trackbar(0) \n",
    "while True:\n",
    "    if cv2.waitKey(1) == ord(\"q\"):  \n",
    "        break\n",
    "\n",
    "cv2.destroyAllWindows()\n"
   ]
  },
  {
   "cell_type": "code",
   "execution_count": null,
   "metadata": {},
   "outputs": [],
   "source": [
    "# 윤곽선을 찾고 : 그레이스케일 -> 이진화 -> findContours\n",
    "# 윤곽선의 인덱스를 선택해서 -> 트랙바 이용 -> while\n",
    "# 해당 인덱스의 bounding rect를 추출하고 -> cv2.boundingRect\n",
    "#contours[i] -> rect\n",
    "# 화면에 사각형을 그린다. -> cv2.rectangle\n",
    "import cv2\n",
    "\n",
    "img = cv2.imread(\"images/vehicles.png\")\n",
    "coppied = img.copy()\n",
    "name = \"vehicles\"\n",
    "cv2.namedWindow(name)\n",
    "\n",
    "# 윤곽선을 찾고 : 그레이스케일 -> 이진화 -> findContours\n",
    "gray = cv2.cvtColor(coppied, cv2.COLOR_BGR2GRAY)\n",
    "ret, binary = cv2.threshold(gray, -1, 255, cv2.THRESH_BINARY | cv2.THRESH_OTSU) #이진화\n",
    "contours, hierachy = cv2.findContours(binary, cv2.RETR_EXTERNAL, cv2.CHAIN_APPROX_SIMPLE)\n",
    "\n",
    "# 윤곽선의 인덱스를 선택해서 -> 트랙바 이용 -> while\n",
    "cv2.createTrackbar(\"index\", name, 0, len(contours) -1, lambda x:x)\n",
    "\n",
    "\n",
    "while True:\n",
    "    target = img.copy()\n",
    "    index = cv2.getTrackbarPos(\"Index\", name)\n",
    "    # 해당 인덱스의 bounding rect를 추출하고 -> cv2.boundingRect\n",
    "    x, y, width, height = cv2.boundingRect(contours[index])\n",
    "    \n",
    "    #contours[i] -> rect\n",
    "    # 화면에 사각형을 그린다. -> cv2.rectangle\n",
    "    cv2.rectangle(target, (x, y), (x + width, y + height), (0, 255, 0), 2)\n",
    "    cv2.imshow(name, target)\n",
    "    \n",
    "    if cv2.waitKey(1) == ord(\"q\"):  \n",
    "        break\n",
    "\n",
    "cv2.destroyAllWindows()"
   ]
  },
  {
   "cell_type": "markdown",
   "metadata": {},
   "source": [
    "### 12-3 coutourArea"
   ]
  },
  {
   "cell_type": "code",
   "execution_count": 7,
   "metadata": {},
   "outputs": [],
   "source": [
    "import cv2\n",
    "\n",
    "img = cv2.imread(\"images/vehicles.png\")\n",
    "coppied = img.copy()\n",
    "name = \"vehicles\"\n",
    "cv2.namedWindow(name)\n",
    "\n",
    "gray = cv2.cvtColor(coppied, cv2.COLOR_BGR2GRAY)\n",
    "ret, binary = cv2.threshold(gray, -1, 255, cv2.THRESH_BINARY | cv2.THRESH_OTSU) #이진화\n",
    "contours, hierachy = cv2.findContours(binary, cv2.RETR_EXTERNAL, cv2.CHAIN_APPROX_SIMPLE)\n",
    "\n",
    "# 윤곽선의 면적이 특정 크기 이상인 윤곽선을 새로운 리스트에 저장\n",
    "MIN_AREA = 1000\n",
    "filtered_contours = []\n",
    "for contour in contours:\n",
    "    if cv2.contourArea(contour) > MIN_AREA:\n",
    "        filtered_contours.append(contour)\n",
    "\n",
    "\n",
    "cv2.createTrackbar(\"index\", name, 0, len(filtered_contours) -1, lambda x:x)\n",
    "\n",
    "\n",
    "while True:\n",
    "    target = img.copy()\n",
    "    index = cv2.getTrackbarPos(\"Index\", name)\n",
    "    x, y, width, height = cv2.boundingRect(contours[index])\n",
    "    \n",
    "    #contours[i] -> rect\n",
    "    # 화면에 사각형을 그린다. -> cv2.rectangle\n",
    "    cv2.rectangle(target, (x, y), (x + width, y + height), (0, 255, 0), 2)\n",
    "    cv2.imshow(name, target)\n",
    "    \n",
    "    if cv2.waitKey(1) == ord(\"q\"):  \n",
    "        break\n",
    "\n",
    "cv2.destroyAllWindows()"
   ]
  }
 ],
 "metadata": {
  "kernelspec": {
   "display_name": "my_cv",
   "language": "python",
   "name": "python3"
  },
  "language_info": {
   "codemirror_mode": {
    "name": "ipython",
    "version": 3
   },
   "file_extension": ".py",
   "mimetype": "text/x-python",
   "name": "python",
   "nbconvert_exporter": "python",
   "pygments_lexer": "ipython3",
   "version": "3.13.0"
  }
 },
 "nbformat": 4,
 "nbformat_minor": 2
}

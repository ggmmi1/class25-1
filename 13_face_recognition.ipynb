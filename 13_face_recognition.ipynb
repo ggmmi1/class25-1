{
 "cells": [
  {
   "cell_type": "markdown",
   "metadata": {},
   "source": [
    "### 13 얼굴인식"
   ]
  },
  {
   "cell_type": "code",
   "execution_count": 1,
   "metadata": {},
   "outputs": [],
   "source": [
    "import cv2"
   ]
  },
  {
   "cell_type": "code",
   "execution_count": null,
   "metadata": {},
   "outputs": [
    {
     "name": "stderr",
     "output_type": "stream",
     "text": [
      "2025-01-07 13:35:45.346 Python[45074:3623184] +[IMKClient subclass]: chose IMKClient_Modern\n",
      "2025-01-07 13:35:45.346 Python[45074:3623184] +[IMKInputSession subclass]: chose IMKInputSession_Modern\n"
     ]
    },
    {
     "data": {
      "text/plain": [
       "-1"
      ]
     },
     "execution_count": 4,
     "metadata": {},
     "output_type": "execute_result"
    }
   ],
   "source": [
    "# 1명\n",
    "import cv2\n",
    "\n",
    "HB = \"images/hb.jpeg\"\n",
    "\n",
    "face_cascade = cv2.CascadeClassifier(\"my_cv/lib/python3.13/site-packages/cv2/data/haarcascade_frontalface_default.xml\")\n",
    "img = cv2.imread(HB)\n",
    "gray = cv2.cvtColor(img, cv2.COLOR_BGR2GRAY)\n",
    "faces = face_cascade.detectMultiScale(\n",
    "    gray, scaleFactor=1.1, minNeighbors=5, minSize=(20, 20)\n",
    ")\n",
    "\n",
    "for face in faces:\n",
    "    x, y, width, height = face \n",
    "    cv2.rectangle(img, (x,y), (x+width, y+height), (0,255,0), 4)\n",
    "\n",
    "cv2.imshow(\"img\", img)\n",
    "\n",
    "cv2.waitKey(0)\n",
    "cv2.destroyAllWindows()\n",
    "cv2.waitKey(1)"
   ]
  },
  {
   "cell_type": "code",
   "execution_count": 8,
   "metadata": {},
   "outputs": [
    {
     "data": {
      "text/plain": [
       "-1"
      ]
     },
     "execution_count": 8,
     "metadata": {},
     "output_type": "execute_result"
    }
   ],
   "source": [
    "# 다수 \n",
    "import cv2\n",
    "\n",
    "F = \"images/family.jpg\"\n",
    "\n",
    "face_cascade = cv2.CascadeClassifier(\"my_cv/lib/python3.13/site-packages/cv2/data/haarcascade_frontalface_default.xml\")\n",
    "img = cv2.imread(F)\n",
    "gray = cv2.cvtColor(img, cv2.COLOR_BGR2GRAY)\n",
    "faces = face_cascade.detectMultiScale(\n",
    "    gray, scaleFactor=1.1, minNeighbors=8, minSize=(20, 20)  #minNeighbors 정확도를 높임\n",
    ")\n",
    "\n",
    "for face in faces:\n",
    "    x, y, width, height = face \n",
    "    cv2.rectangle(img, (x,y), (x+width, y+height), (0,255,0), 4)\n",
    "\n",
    "cv2.imshow(\"img\", img)\n",
    "\n",
    "cv2.waitKey(0)\n",
    "cv2.destroyAllWindows()\n",
    "cv2.waitKey(1)"
   ]
  },
  {
   "cell_type": "code",
   "execution_count": 15,
   "metadata": {},
   "outputs": [
    {
     "data": {
      "text/plain": [
       "-1"
      ]
     },
     "execution_count": 15,
     "metadata": {},
     "output_type": "execute_result"
    }
   ],
   "source": [
    "# 눈만 인식\n",
    "import cv2\n",
    "\n",
    "HB = \"images/hb.jpeg\"\n",
    "\n",
    "face_cascade = cv2.CascadeClassifier(\"my_cv/lib/python3.13/site-packages/cv2/data/haarcascade_frontalface_default.xml\")\n",
    "eye_cascade = cv2.CascadeClassifier(\"cascade/haarcascade_eye.xml\")\n",
    "img = cv2.imread(HB)\n",
    "gray = cv2.cvtColor(img, cv2.COLOR_BGR2GRAY)\n",
    "faces = face_cascade.detectMultiScale(\n",
    "    gray, scaleFactor=1.1, minNeighbors=8, minSize=(20, 20)  #minNeighbors 정확도를 높임\n",
    ")\n",
    "\n",
    "eyes = eye_cascade.detectMultiScale(\n",
    "    gray, scaleFactor=1.1, minNeighbors=2, maxSize=(20,20)\n",
    ")\n",
    "if len(faces):\n",
    "    for face in faces:\n",
    "        x, y, width, height = face \n",
    "        cv2.rectangle(img, (x,y), (x+width, y+height), (0,255,0), 4)\n",
    "        \n",
    "if len(eyes):\n",
    "    for eye in eyes:\n",
    "        x, y, width, height = eye\n",
    "        cv2.rectangle(img, (x,y), (x+width, y+height), (255,0,255), 3)\n",
    "\n",
    "cv2.imshow(\"img\", img)\n",
    "\n",
    "cv2.waitKey(0)\n",
    "cv2.destroyAllWindows()\n",
    "cv2.waitKey(1)"
   ]
  },
  {
   "cell_type": "markdown",
   "metadata": {},
   "source": [
    "## 영상에서 얼굴 인식하기 - 실습"
   ]
  },
  {
   "cell_type": "code",
   "execution_count": 19,
   "metadata": {},
   "outputs": [],
   "source": [
    "face_cascade = cv2.CascadeClassifier(\"cascade/haarcascade_frontalface_default.xml\")\n",
    "cap = cv2.VideoCapture(\"videos/IMG_1298.mp4\")\n",
    "fps = cap.get(cv2.CAP_PROP_FPS)\n",
    "\n",
    "while cap.isOpened():\n",
    "  ret, frame = cap.read()\n",
    "\n",
    "  if not ret:\n",
    "    break\n",
    "\n",
    "  gray = cv2.cvtColor(frame, cv2.COLOR_BGR2GRAY)\n",
    "\n",
    "  faces = face_cascade.detectMultiScale(\n",
    "    gray, scaleFactor=1.1, minNeighbors=5, minSize=(20,20)\n",
    "  )\n",
    "\n",
    "  if len(faces):\n",
    "    for x,y,w,h in faces:\n",
    "      cv2.rectangle(frame, (x,y), (x+w, y+h), (0,255,0), 4)\n",
    "\n",
    "  cv2.imshow(\"video\", frame)\n",
    "\n",
    "  if cv2.waitKey(int(1000/fps)) == ord(\"q\"):\n",
    "    break\n",
    "\n",
    "cap.release()\n",
    "cv2.destroyAllWindows()"
   ]
  },
  {
   "cell_type": "code",
   "execution_count": 18,
   "metadata": {},
   "outputs": [
    {
     "data": {
      "text/plain": [
       "-1"
      ]
     },
     "execution_count": 18,
     "metadata": {},
     "output_type": "execute_result"
    }
   ],
   "source": [
    "import cv2\n",
    "\n",
    "face_cascade = cv2.CascadeClassifier(\"my_cv/lib/python3.13/site-packages/cv2/data/haarcascade_frontalface_default.xml\")\n",
    "cap = cv2.VideoCapture(\"videos/IMG_1298.mp4\")\n",
    "fps = cap.get(cv2.CAP_PROP_FPS)\n",
    "\n",
    "while cap.isOpened:\n",
    "    ret, frame = cap.read()\n",
    "    \n",
    "    if not ret:\n",
    "        break\n",
    "    \n",
    "    gray = cv2.cvtColor(frame, cv2.COLOR_BGR2GRAY)\n",
    "    \n",
    "    faces = face_cascade.detectMultiScale(\n",
    "    gray, scaleFactor=1.1, minNeighbors=20, minSize=(20, 20)  \n",
    "    )\n",
    "    \n",
    "    if len(faces):\n",
    "        for x,y,w,h in faces:\n",
    "            cv2.rectangle(img, (x,y), (x+w, x+h), (0,255,0), 4)\n",
    "    \n",
    "    cv2.imshow(\"Video\", frame)\n",
    "    \n",
    "    if cv2.waitKey(int(1000/fps)) == ord(\"q\"):\n",
    "        break\n",
    "    \n",
    "\n",
    "cap.release()\n",
    "cv2.destroyAllWindows()\n",
    "cv2.waitKey(1)"
   ]
  },
  {
   "cell_type": "markdown",
   "metadata": {},
   "source": [
    "##실습 웹캠에서 눈 얼굴 표시"
   ]
  },
  {
   "cell_type": "code",
   "execution_count": null,
   "metadata": {},
   "outputs": [
    {
     "name": "stderr",
     "output_type": "stream",
     "text": [
      "2025-01-08 10:51:42.359 Python[47710:3758976] +[IMKClient subclass]: chose IMKClient_Modern\n",
      "2025-01-08 10:51:42.359 Python[47710:3758976] +[IMKInputSession subclass]: chose IMKInputSession_Modern\n"
     ]
    }
   ],
   "source": [
    "import cv2\n",
    "\n",
    "face_cascade = cv2.CascadeClassifier(\"my_cv/lib/python3.13/site-packages/cv2/data/haarcascade_frontalface_default.xml\")\n",
    "eye_cascade = cv2.CascadeClassifier(\"cascade/haarcascade_eye.xml\")\n",
    "\n",
    "cap = cv2.VideoCapture(0)\n",
    "if not cap.isOpened():\n",
    "    print(\"카메라를 열 수 없습니다.\")\n",
    "    exit()\n",
    "    \n",
    "fps = cap.get(cv2.CAP_PROP_FPS)\n",
    "\n",
    "while True:\n",
    "    ret, frame = cap.read()\n",
    "    if not ret:\n",
    "        break\n",
    "\n",
    "    gray = cv2.cvtColor(frame, cv2.COLOR_BGR2GRAY)\n",
    "\n",
    "    faces = face_cascade.detectMultiScale(gray, scaleFactor=1.1, minNeighbors=5, minSize=(20, 20))  #detectMultiScale2를 사용하면 objects, weights를 불러온다. zip함수 이용\n",
    "    eyes = eye_cascade.detectMultiScale(gray, scaleFactor=1.1, minNeighbors=6)\n",
    "\n",
    "    for (x, y, width, height) in faces:\n",
    "        cv2.rectangle(frame, (x, y), (x + width, y + height), (0, 255, 0), 4)\n",
    "        cv2.putText(frame, \"face\", (x, y - 5), cv2.FONT_HERSHEY_SIMPLEX, 1, (255, 0, 0), 2)\n",
    "\n",
    "    for (x, y, width, height) in eyes:\n",
    "        cv2.rectangle(frame, (x, y), (x + width, y + height), (255, 0, 0), 2)\n",
    "        cv2.putText(frame, \"eye\", (x, y - 5), cv2.FONT_HERSHEY_SIMPLEX, 0.5, (0, 255, 255), 1)\n",
    "\n",
    "    cv2.imshow(\"video\", frame)\n",
    "\n",
    "   \n",
    "    if cv2.waitKey(int(1000 / fps))  == ord(\"q\"):\n",
    "        break\n",
    "\n",
    "cap.release()\n",
    "cv2.destroyAllWindows()\n",
    "cv2.waitKey(1)\n"
   ]
  },
  {
   "cell_type": "code",
   "execution_count": 2,
   "metadata": {},
   "outputs": [
    {
     "name": "stdout",
     "output_type": "stream",
     "text": [
      "[([1, 2, 3, 4], 30), ([5, 6, 7, 8], 40), ([9, 10, 11, 12], 50)]\n"
     ]
    }
   ],
   "source": [
    "#zip\n",
    "\n",
    "list_1 = [1,2,3,4], [5,6,7,8], [9,10,11,12]\n",
    "list_2 = [30, 40,50]\n",
    "print(list(zip(list_1, list_2)))\n",
    "\n"
   ]
  },
  {
   "cell_type": "markdown",
   "metadata": {},
   "source": [
    "## 실습 귀여운 눈 덮어쓰기"
   ]
  },
  {
   "cell_type": "code",
   "execution_count": null,
   "metadata": {},
   "outputs": [
    {
     "name": "stdout",
     "output_type": "stream",
     "text": [
      "[[1000    4   26   26]\n",
      " [ 415   32   28   28]\n",
      " [ 757  550   94   94]\n",
      " [ 610  581   74   74]\n",
      " [ 750 1127   23   23]\n",
      " [ 309 1021   50   50]]\n",
      "[[1000    4   26   26]\n",
      " [ 415   32   28   28]\n",
      " [ 757  550   94   94]\n",
      " [ 610  581   74   74]\n",
      " [ 750 1127   23   23]\n",
      " [ 309 1021   50   50]]\n",
      "[[1000    4   26   26]\n",
      " [ 415   32   28   28]\n",
      " [ 757  550   94   94]\n",
      " [ 610  581   74   74]\n",
      " [ 750 1127   23   23]\n",
      " [ 309 1021   50   50]]\n",
      "[[1000    4   26   26]\n",
      " [ 415   32   28   28]\n",
      " [ 757  550   94   94]\n",
      " [ 610  581   74   74]\n",
      " [ 750 1127   23   23]\n",
      " [ 309 1021   50   50]]\n",
      "[[1000    4   26   26]\n",
      " [ 415   32   28   28]\n",
      " [ 757  550   94   94]\n",
      " [ 610  581   74   74]\n",
      " [ 750 1127   23   23]\n",
      " [ 309 1021   50   50]]\n",
      "[[1000    4   26   26]\n",
      " [ 415   32   28   28]\n",
      " [ 757  550   94   94]\n",
      " [ 610  581   74   74]\n",
      " [ 750 1127   23   23]\n",
      " [ 309 1021   50   50]]\n"
     ]
    }
   ],
   "source": [
    "# 눈만 인식\n",
    "import cv2\n",
    "\n",
    "S =cv2.imread(\"images/download.jpeg\")\n",
    "eye_r = cv2.imread(\"images/right_eye.jpg\")\n",
    "eye_l = cv2.imread(\"images/left_eye.jpg\")\n",
    "eye_cascade = cv2.CascadeClassifier(\"cascade/haarcascade_eye.xml\")\n",
    "\n",
    "coppied = img.copy()\n",
    "gray = cv2.cvtColor(img, cv2.COLOR_BGR2GRAY)\n",
    "\n",
    "\n",
    "eyes = eye_cascade.detectMultiScale(\n",
    "    gray, scaleFactor=1.1, minNeighbors=8\n",
    ")\n",
    " \n",
    "if len(eyes):\n",
    "    for i, eye in enumerate(eyes):\n",
    "        x, y, width, height = eye\n",
    "        print(eyes)\n",
    "        \n",
    "        if i == 0:\n",
    "            r_resize = cv2.resize(eye_r, (width, height))  \n",
    "            coppied[y:y + height, x:x + width] = r_resize\n",
    "        else:\n",
    "            l_resize = cv2.resize(eye_l, (width, height))\n",
    "            coppied[y:y + height, x:x + width] = l_resize\n",
    "        \n",
    "\n",
    "# 결과 출력\n",
    "cv2.imshow(\"img\", coppied)\n",
    "\n",
    "cv2.waitKey(0)\n",
    "cv2.destroyAllWindows()\n",
    "cv2.waitKey(1)"
   ]
  }
 ],
 "metadata": {
  "kernelspec": {
   "display_name": "my_cv",
   "language": "python",
   "name": "python3"
  },
  "language_info": {
   "codemirror_mode": {
    "name": "ipython",
    "version": 3
   },
   "file_extension": ".py",
   "mimetype": "text/x-python",
   "name": "python",
   "nbconvert_exporter": "python",
   "pygments_lexer": "ipython3",
   "version": "3.13.0"
  }
 },
 "nbformat": 4,
 "nbformat_minor": 2
}
